{
  "nbformat": 4,
  "nbformat_minor": 0,
  "metadata": {
    "colab": {
      "provenance": []
    },
    "kernelspec": {
      "name": "python3",
      "display_name": "Python 3"
    },
    "language_info": {
      "name": "python"
    }
  },
  "cells": [
    {
      "cell_type": "code",
      "execution_count": 1,
      "metadata": {
        "colab": {
          "base_uri": "https://localhost:8080/"
        },
        "id": "fXxEsFG7V6St",
        "outputId": "3e955761-0a6f-4725-f48e-a4a57fab07c0"
      },
      "outputs": [
        {
          "output_type": "stream",
          "name": "stdout",
          "text": [
            "hadi\n",
            "salman\n",
            "khalid\n"
          ]
        }
      ],
      "source": [
        "names = [\"hadi\", \"salman\", \"khalid\"]\n",
        "\n",
        "print(names[0])\n",
        "print(names[1])\n",
        "print(names[2])\n"
      ]
    }
  ]
}