{
  "nbformat": 4,
  "nbformat_minor": 0,
  "metadata": {
    "colab": {
      "provenance": []
    },
    "kernelspec": {
      "name": "python3",
      "display_name": "Python 3"
    },
    "language_info": {
      "name": "python"
    }
  },
  "cells": [
    {
      "cell_type": "code",
      "execution_count": 1,
      "metadata": {
        "colab": {
          "base_uri": "https://localhost:8080/"
        },
        "id": "6IEiNwcxANGW",
        "outputId": "1933d851-c470-4928-e5e3-d627a8d34cbb"
      },
      "outputs": [
        {
          "output_type": "stream",
          "name": "stdout",
          "text": [
            "Faisal, please come to breakfast.\n",
            "Omer, please come to breakfast.\n",
            "Hamad, please come to breakfast.\n"
          ]
        }
      ],
      "source": [
        "guests = [\"faisal\",\"omer\",\"hamad\",\"hadi\",\"salem\",\"ali\"]\n",
        "\n",
        "name = guests[0].title()\n",
        "print(name + \", please come to breakfast.\")\n",
        "\n",
        "\n",
        "name = guests[1].title()\n",
        "print(name + \", please come to breakfast.\")\n",
        "\n",
        "\n",
        "name = guests[2].title()\n",
        "print(name + \", please come to breakfast.\")\n"
      ]
    }
  ]
}