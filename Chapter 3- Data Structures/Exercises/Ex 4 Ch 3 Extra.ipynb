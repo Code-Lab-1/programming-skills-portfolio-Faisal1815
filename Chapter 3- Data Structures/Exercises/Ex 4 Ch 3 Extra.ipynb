{
  "nbformat": 4,
  "nbformat_minor": 0,
  "metadata": {
    "colab": {
      "provenance": []
    },
    "kernelspec": {
      "name": "python3",
      "display_name": "Python 3"
    },
    "language_info": {
      "name": "python"
    }
  },
  "cells": [
    {
      "cell_type": "code",
      "execution_count": 2,
      "metadata": {
        "id": "TO0iqLacIFAP",
        "colab": {
          "base_uri": "https://localhost:8080/"
        },
        "outputId": "f0a52b7f-6c1d-4e20-dc98-211cf706f84d"
      },
      "outputs": [
        {
          "output_type": "stream",
          "name": "stdout",
          "text": [
            "Jad, see you at night.\n",
            "Kamal, see you at night.\n",
            "Heba, see you at night.\n"
          ]
        }
      ],
      "source": [
        "guests = [\"jad\",\"kamal\",\"heba\",\"jolyan\",\"maram\",\"khan\"]\n",
        "\n",
        "name = guests[0].title()\n",
        "print(name + \", see you at night.\")\n",
        "\n",
        "\n",
        "name = guests[1].title()\n",
        "print(name + \", see you at night.\")\n",
        "\n",
        "\n",
        "name = guests[2].title()\n",
        "print(name + \", see you at night.\")"
      ]
    }
  ]
}