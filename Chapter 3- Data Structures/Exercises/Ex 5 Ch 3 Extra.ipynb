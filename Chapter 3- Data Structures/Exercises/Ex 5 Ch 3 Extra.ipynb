{
  "nbformat": 4,
  "nbformat_minor": 0,
  "metadata": {
    "colab": {
      "provenance": []
    },
    "kernelspec": {
      "name": "python3",
      "display_name": "Python 3"
    },
    "language_info": {
      "name": "python"
    }
  },
  "cells": [
    {
      "cell_type": "code",
      "execution_count": 3,
      "metadata": {
        "id": "TO0iqLacIFAP",
        "colab": {
          "base_uri": "https://localhost:8080/"
        },
        "outputId": "a9023ff0-08b9-4fae-951b-18e5d5b4f895"
      },
      "outputs": [
        {
          "output_type": "stream",
          "name": "stdout",
          "text": [
            "Jad, see you at night.\n",
            "Kamal, see you at night.\n",
            "Heba, see you at night.\n",
            "\n",
            "sorry, Kamal can't see you at night.\n",
            "\n",
            "Jad, see you at night.\n",
            "Fahed, see you at night.\n",
            "Heba, see you at night.\n"
          ]
        }
      ],
      "source": [
        "guests = [\"jad\",\"kamal\",\"heba\",\"jolyan\",\"maram\",\"khan\"]\n",
        "\n",
        "name = guests[0].title()\n",
        "print(name + \", see you at night.\")\n",
        "\n",
        "\n",
        "name = guests[1].title()\n",
        "print(name + \", see you at night.\")\n",
        "\n",
        "\n",
        "name = guests[2].title()\n",
        "print(name + \", see you at night.\")\n",
        "\n",
        "\n",
        "name = guests[1].title()\n",
        "print(\"\\nsorry, \" + name + \" can't see you at night.\")\n",
        "\n",
        "del(guests[1])\n",
        "guests.insert(1, \"fahed\")\n",
        "\n",
        "name = guests[0].title()\n",
        "print(\"\\n\" + name + \", see you at night.\")\n",
        "\n",
        "name = guests[1].title()\n",
        "print(name + \", see you at night.\")\n",
        "\n",
        "name = guests[2].title()\n",
        "print(name + \", see you at night.\")\n",
        "\n"
      ]
    }
  ]
}