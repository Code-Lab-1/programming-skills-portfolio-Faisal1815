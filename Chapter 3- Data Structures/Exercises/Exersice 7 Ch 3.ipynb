{
  "nbformat": 4,
  "nbformat_minor": 0,
  "metadata": {
    "colab": {
      "provenance": []
    },
    "kernelspec": {
      "name": "python3",
      "display_name": "Python 3"
    },
    "language_info": {
      "name": "python"
    }
  },
  "cells": [
    {
      "cell_type": "code",
      "execution_count": 2,
      "metadata": {
        "colab": {
          "base_uri": "https://localhost:8080/"
        },
        "id": "ZdOZ-tWQp187",
        "outputId": "c554b3fa-7272-4d00-cbe4-3f191b56f3d4"
      },
      "outputs": [
        {
          "output_type": "stream",
          "name": "stdout",
          "text": [
            "\n",
            "Original order:\n",
            "['syria', 'jordan', 'palastine', 'UAE', 'qatar']\n",
            "\n",
            "Alphabetical:\n",
            "['UAE', 'jordan', 'palastine', 'qatar', 'syria']\n",
            "\n",
            "Original order:\n",
            "['syria', 'jordan', 'palastine', 'UAE', 'qatar']\n",
            "\n",
            "Reverse alphabetical:\n",
            "['syria', 'qatar', 'palastine', 'jordan', 'UAE']\n",
            "\n",
            "Original order:\n",
            "['syria', 'jordan', 'palastine', 'UAE', 'qatar']\n",
            "\n",
            "Reversed:\n",
            "['qatar', 'UAE', 'palastine', 'jordan', 'syria']\n",
            "\n",
            "Original order:\n",
            "['syria', 'jordan', 'palastine', 'UAE', 'qatar']\n",
            "\n",
            "Alphabetical:\n",
            "['UAE', 'jordan', 'palastine', 'qatar', 'syria']\n",
            "\n",
            "Reverse alphabetical\n",
            "['syria', 'qatar', 'palastine', 'jordan', 'UAE']\n"
          ]
        }
      ],
      "source": [
        "locations = ['syria','jordan','palastine','UAE','qatar']\n",
        "\n",
        "\n",
        "print(\"\\nOriginal order:\")\n",
        "print(locations)\n",
        "\n",
        "print(\"\\nAlphabetical:\")\n",
        "print(sorted(locations))\n",
        "\n",
        "print(\"\\nOriginal order:\")\n",
        "print(locations)\n",
        "\n",
        "print(\"\\nReverse alphabetical:\")\n",
        "print(sorted(locations, reverse=True))\n",
        "\n",
        "print(\"\\nOriginal order:\")\n",
        "print(locations)\n",
        "\n",
        "print(\"\\nReversed:\")\n",
        "locations.reverse()\n",
        "print(locations)\n",
        "\n",
        "print(\"\\nOriginal order:\")\n",
        "locations.reverse()\n",
        "print(locations)\n",
        "\n",
        "print(\"\\nAlphabetical:\")\n",
        "locations.sort()\n",
        "print(locations)\n",
        "\n",
        "print(\"\\nReverse alphabetical\")\n",
        "locations.sort(reverse=True)\n",
        "print(locations)\n"
      ]
    }
  ]
}