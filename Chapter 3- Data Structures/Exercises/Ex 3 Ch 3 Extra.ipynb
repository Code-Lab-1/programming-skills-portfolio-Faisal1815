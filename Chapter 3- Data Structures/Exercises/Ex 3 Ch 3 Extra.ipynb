{
  "nbformat": 4,
  "nbformat_minor": 0,
  "metadata": {
    "colab": {
      "provenance": []
    },
    "kernelspec": {
      "name": "python3",
      "display_name": "Python 3"
    },
    "language_info": {
      "name": "python"
    }
  },
  "cells": [
    {
      "cell_type": "code",
      "execution_count": 3,
      "metadata": {
        "colab": {
          "base_uri": "https://localhost:8080/"
        },
        "id": "fXxEsFG7V6St",
        "outputId": "4e8f05ff-4d60-4701-f5d6-a074e129f3b5"
      },
      "outputs": [
        {
          "output_type": "stream",
          "name": "stdout",
          "text": [
            "I would like to see a glider\n",
            "I would like to see a autopilot\n",
            "I would like to see a jet\n",
            "I would like to see a aircraft\n",
            "I would like to see a warplane\n"
          ]
        }
      ],
      "source": [
        "Ships=[\"glider\",\"autopilot\",\"jet\",\"aircraft\",\"warplane\"]\n",
        "print(\"I would like to see a\",Ships[0])\n",
        "print(\"I would like to see a\",Ships[1])\n",
        "print(\"I would like to see a\",Ships[2])\n",
        "print(\"I would like to see a\",Ships[3])\n",
        "print(\"I would like to see a\",Ships[4])"
      ]
    }
  ]
}