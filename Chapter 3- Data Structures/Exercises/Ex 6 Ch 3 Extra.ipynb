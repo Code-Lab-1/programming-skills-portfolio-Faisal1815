{
  "nbformat": 4,
  "nbformat_minor": 0,
  "metadata": {
    "colab": {
      "provenance": []
    },
    "kernelspec": {
      "name": "python3",
      "display_name": "Python 3"
    },
    "language_info": {
      "name": "python"
    }
  },
  "cells": [
    {
      "cell_type": "code",
      "source": [
        "guests = [\"jad\",\"kamal\",\"heba\",\"jolyan\",\"maram\",\"khan\"]\n",
        "\n",
        "name = guests[0].title()\n",
        "print(name + \", see you at morning.\")\n",
        "\n",
        "\n",
        "name = guests[1].title()\n",
        "print(name + \", see you at morning.\")\n",
        "\n",
        "\n",
        "name = guests[2].title()\n",
        "print(name + \", see you at morning..\")\n",
        "\n",
        "\n",
        "name = guests[1].title()\n",
        "print(\"\\nsorry, \" + name + \" can't see you at morning.\")\n",
        "\n",
        "del(guests[1])\n",
        "guests.insert(1, \"fahed\")\n",
        "\n",
        "name = guests[0].title()\n",
        "print(\"\\n\" + name + \", see you at morning.\")\n",
        "\n",
        "name = guests[1].title()\n",
        "print(name + \", see you at morning.\")\n",
        "\n",
        "name = guests[2].title()\n",
        "print(name + \", see you at morning.\")\n",
        "\n",
        "print(\"\\nWe will playing soccer!\")\n",
        "guests.insert(0, 'saif')\n",
        "guests.insert(2, 'saeed')\n",
        "guests.append('omer')\n",
        "\n",
        "name = guests[0].title()\n",
        "print(name + \",see you at night.\")\n",
        "\n",
        "name = guests[1].title()\n",
        "print(name + \",see you at night..\")\n",
        "\n",
        "name = guests[2].title()\n",
        "print(name + \",see you at night.\")\n",
        "\n",
        "name = guests[3].title()\n",
        "print(name + \",see you at night.\")\n",
        "\n",
        "name = guests[4].title()\n",
        "print(name + \",see you at night.\")\n",
        "\n",
        "name = guests[5].title()\n",
        "print(name + \",see you at night.\")"
      ],
      "metadata": {
        "colab": {
          "base_uri": "https://localhost:8080/"
        },
        "id": "CQk0Py5-LVR3",
        "outputId": "72c65715-f641-4cbe-c3ce-2e456e07c805"
      },
      "execution_count": 5,
      "outputs": [
        {
          "output_type": "stream",
          "name": "stdout",
          "text": [
            "Jad, see you at morning.\n",
            "Kamal, see you at morning.\n",
            "Heba, see you at morning..\n",
            "\n",
            "sorry, Kamal can't see you at morning.\n",
            "\n",
            "Jad, see you at morning.\n",
            "Fahed, see you at morning.\n",
            "Heba, see you at morning.\n",
            "\n",
            "We will playing soccer!\n",
            "Saif,see you at night.\n",
            "Jad,see you at night..\n",
            "Saeed,see you at night.\n",
            "Fahed,see you at night.\n",
            "Heba,see you at night.\n",
            "Jolyan,see you at night.\n"
          ]
        }
      ]
    }
  ]
}