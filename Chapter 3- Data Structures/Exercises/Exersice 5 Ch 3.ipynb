{
  "nbformat": 4,
  "nbformat_minor": 0,
  "metadata": {
    "colab": {
      "provenance": []
    },
    "kernelspec": {
      "name": "python3",
      "display_name": "Python 3"
    },
    "language_info": {
      "name": "python"
    }
  },
  "cells": [
    {
      "cell_type": "code",
      "execution_count": 14,
      "metadata": {
        "colab": {
          "base_uri": "https://localhost:8080/"
        },
        "id": "6IEiNwcxANGW",
        "outputId": "2676520b-0c83-4cbf-aebe-a7e1beeaefe5"
      },
      "outputs": [
        {
          "output_type": "stream",
          "name": "stdout",
          "text": [
            "Faisal, please come to breakfast.\n",
            "Omer, please come to breakfast.\n",
            "Hamad, please come to breakfast.\n",
            "\n",
            "sorry, Omer can't make it to breakfast.\n",
            "\n",
            "Faisal, please come to breakfast.\n",
            "Fahed, please come to breakfast.\n",
            "Hamad, please come to breakfast.\n"
          ]
        }
      ],
      "source": [
        "guests = [\"faisal\",\"omer\",\"hamad\",\"hadi\",\"salem\",\"ali\"]\n",
        "\n",
        "name = guests[0].title()\n",
        "print(name + \", please come to breakfast.\")\n",
        "\n",
        "\n",
        "name = guests[1].title()\n",
        "print(name + \", please come to breakfast.\")\n",
        "\n",
        "\n",
        "name = guests[2].title()\n",
        "print(name + \", please come to breakfast.\")\n",
        "\n",
        "\n",
        "name = guests[1].title()\n",
        "print(\"\\nsorry, \" + name + \" can't make it to breakfast.\")\n",
        "\n",
        "del(guests[1])\n",
        "guests.insert(1, \"fahed\")\n",
        "\n",
        "name = guests[0].title()\n",
        "print(\"\\n\" + name + \", please come to breakfast.\")\n",
        "\n",
        "name = guests[1].title()\n",
        "print(name + \", please come to breakfast.\")\n",
        "\n",
        "name = guests[2].title()\n",
        "print(name + \", please come to breakfast.\")\n",
        "\n"
      ]
    }
  ]
}