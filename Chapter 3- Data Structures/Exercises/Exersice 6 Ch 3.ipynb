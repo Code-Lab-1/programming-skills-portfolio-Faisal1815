{
  "nbformat": 4,
  "nbformat_minor": 0,
  "metadata": {
    "colab": {
      "provenance": []
    },
    "kernelspec": {
      "name": "python3",
      "display_name": "Python 3"
    },
    "language_info": {
      "name": "python"
    }
  },
  "cells": [
    {
      "cell_type": "code",
      "execution_count": 4,
      "metadata": {
        "colab": {
          "base_uri": "https://localhost:8080/"
        },
        "id": "cB84x58SM-UD",
        "outputId": "123a0b5e-4cd2-4e80-e2a0-6837c6abaf91"
      },
      "outputs": [
        {
          "output_type": "stream",
          "name": "stdout",
          "text": [
            "Faisal, please come to breakfast.\n",
            "Omer, please come to breakfast.\n",
            "Hamad, please come to breakfast.\n",
            "\n",
            "sorry, Omer can't make it to breakfast.\n",
            "\n",
            "Faisal, please come to breakfast.\n",
            "Fahed, please come to breakfast.\n",
            "Hamad, please come to breakfast.\n",
            "\n",
            "We got a bigger table!\n",
            "Sofian,please come to dinner.\n",
            "Faisal,please come to dinner.\n",
            "Huda,please come to dinner.\n",
            "Fahed,please come to dinner.\n",
            "Hamad,please come to dinner.\n",
            "Hadi,please come to dinner.\n"
          ]
        }
      ],
      "source": [
        "guests = [\"faisal\",\"omer\",\"hamad\",\"hadi\",\"salem\",\"ali\"]\n",
        "\n",
        "name = guests[0].title()\n",
        "print(name + \", please come to breakfast.\")\n",
        "\n",
        "\n",
        "name = guests[1].title()\n",
        "print(name + \", please come to breakfast.\")\n",
        "\n",
        "\n",
        "name = guests[2].title()\n",
        "print(name + \", please come to breakfast.\")\n",
        "\n",
        "\n",
        "name = guests[1].title()\n",
        "print(\"\\nsorry, \" + name + \" can't make it to breakfast.\")\n",
        "\n",
        "del(guests[1])\n",
        "guests.insert(1, \"fahed\")\n",
        "\n",
        "name = guests[0].title()\n",
        "print(\"\\n\" + name + \", please come to breakfast.\")\n",
        "\n",
        "name = guests[1].title()\n",
        "print(name + \", please come to breakfast.\")\n",
        "\n",
        "name = guests[2].title()\n",
        "print(name + \", please come to breakfast.\")\n",
        "\n",
        "print(\"\\nWe got a bigger table!\")\n",
        "guests.insert(0, 'sofian')\n",
        "guests.insert(2, 'huda')\n",
        "guests.append('kamal')\n",
        "\n",
        "name = guests[0].title()\n",
        "print(name + \",please come to dinner.\")\n",
        "\n",
        "name = guests[1].title()\n",
        "print(name + \",please come to dinner.\")\n",
        "\n",
        "name = guests[2].title()\n",
        "print(name + \",please come to dinner.\")\n",
        "\n",
        "name = guests[3].title()\n",
        "print(name + \",please come to dinner.\")\n",
        "\n",
        "name = guests[4].title()\n",
        "print(name + \",please come to dinner.\")\n",
        "\n",
        "name = guests[5].title()\n",
        "print(name + \",please come to dinner.\")"
      ]
    }
  ]
}