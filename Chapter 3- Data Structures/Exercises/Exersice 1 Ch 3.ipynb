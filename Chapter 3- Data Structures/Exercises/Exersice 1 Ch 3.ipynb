{
  "nbformat": 4,
  "nbformat_minor": 0,
  "metadata": {
    "colab": {
      "provenance": []
    },
    "kernelspec": {
      "name": "python3",
      "display_name": "Python 3"
    },
    "language_info": {
      "name": "python"
    }
  },
  "cells": [
    {
      "cell_type": "code",
      "execution_count": 9,
      "metadata": {
        "colab": {
          "base_uri": "https://localhost:8080/"
        },
        "id": "pe_s5kaF5hT3",
        "outputId": "af072d3c-9ece-4d83-bb2b-2ca74c4ad5f6"
      },
      "outputs": [
        {
          "output_type": "stream",
          "name": "stdout",
          "text": [
            "faisal\n",
            "khalid\n",
            "omer\n"
          ]
        }
      ],
      "source": [
        "names = [\"faisal\", \"khalid\", \"omer\"]\n",
        "\n",
        "print(names[0])\n",
        "print(names[1])\n",
        "print(names[2])\n"
      ]
    }
  ]
}