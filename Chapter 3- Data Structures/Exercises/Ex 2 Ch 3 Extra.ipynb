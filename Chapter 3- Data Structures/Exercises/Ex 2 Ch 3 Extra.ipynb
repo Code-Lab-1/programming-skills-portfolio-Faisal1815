{
  "nbformat": 4,
  "nbformat_minor": 0,
  "metadata": {
    "colab": {
      "provenance": []
    },
    "kernelspec": {
      "name": "python3",
      "display_name": "Python 3"
    },
    "language_info": {
      "name": "python"
    }
  },
  "cells": [
    {
      "cell_type": "code",
      "execution_count": 2,
      "metadata": {
        "colab": {
          "base_uri": "https://localhost:8080/"
        },
        "id": "fXxEsFG7V6St",
        "outputId": "846ab6bf-1f51-4b41-da63-0cf8a8b51f44"
      },
      "outputs": [
        {
          "output_type": "stream",
          "name": "stdout",
          "text": [
            "Welcome, Noor\n",
            "Welcome, Salma\n",
            "Welcome, Huda\n"
          ]
        }
      ],
      "source": [
        "names = [\"noor\", \"salma\", \"huda\"]\n",
        "\n",
        "msg = \"Welcome, \" + names[0].title()\n",
        "print(msg)\n",
        "\n",
        "msg = \"Welcome, \" + names[1].title()\n",
        "print(msg)\n",
        "\n",
        "msg = \"Welcome, \" + names[2].title()\n",
        "print(msg)"
      ]
    }
  ]
}