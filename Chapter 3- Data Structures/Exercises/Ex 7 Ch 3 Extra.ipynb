{
  "nbformat": 4,
  "nbformat_minor": 0,
  "metadata": {
    "colab": {
      "provenance": []
    },
    "kernelspec": {
      "name": "python3",
      "display_name": "Python 3"
    },
    "language_info": {
      "name": "python"
    }
  },
  "cells": [
    {
      "cell_type": "code",
      "source": [
        "locations = ['syria','Iran','Jordan','Yamen','Oman']\n",
        "\n",
        "\n",
        "print(\"\\nOriginal order:\")\n",
        "print(locations)\n",
        "\n",
        "print(\"\\nAlphabetical:\")\n",
        "print(sorted(locations))\n",
        "\n",
        "print(\"\\nOriginal order:\")\n",
        "print(locations)\n",
        "\n",
        "print(\"\\nReverse alphabetical:\")\n",
        "print(sorted(locations, reverse=True))\n",
        "\n",
        "print(\"\\nOriginal order:\")\n",
        "print(locations)\n",
        "\n",
        "print(\"\\nReversed:\")\n",
        "locations.reverse()\n",
        "print(locations)\n",
        "\n",
        "print(\"\\nOriginal order:\")\n",
        "locations.reverse()\n",
        "print(locations)\n",
        "\n",
        "print(\"\\nAlphabetical:\")\n",
        "locations.sort()\n",
        "print(locations)\n",
        "\n",
        "print(\"\\nReverse alphabetical\")\n",
        "locations.sort(reverse=True)\n",
        "print(locations)\n"
      ],
      "metadata": {
        "colab": {
          "base_uri": "https://localhost:8080/"
        },
        "id": "vf-5vD3vQVJW",
        "outputId": "fce0f847-f688-47bf-d1f8-0e381b5aff41"
      },
      "execution_count": 6,
      "outputs": [
        {
          "output_type": "stream",
          "name": "stdout",
          "text": [
            "\n",
            "Original order:\n",
            "['syria', 'Iran', 'Jordan', 'Yamen', 'Oman']\n",
            "\n",
            "Alphabetical:\n",
            "['Iran', 'Jordan', 'Oman', 'Yamen', 'syria']\n",
            "\n",
            "Original order:\n",
            "['syria', 'Iran', 'Jordan', 'Yamen', 'Oman']\n",
            "\n",
            "Reverse alphabetical:\n",
            "['syria', 'Yamen', 'Oman', 'Jordan', 'Iran']\n",
            "\n",
            "Original order:\n",
            "['syria', 'Iran', 'Jordan', 'Yamen', 'Oman']\n",
            "\n",
            "Reversed:\n",
            "['Oman', 'Yamen', 'Jordan', 'Iran', 'syria']\n",
            "\n",
            "Original order:\n",
            "['syria', 'Iran', 'Jordan', 'Yamen', 'Oman']\n",
            "\n",
            "Alphabetical:\n",
            "['Iran', 'Jordan', 'Oman', 'Yamen', 'syria']\n",
            "\n",
            "Reverse alphabetical\n",
            "['syria', 'Yamen', 'Oman', 'Jordan', 'Iran']\n"
          ]
        }
      ]
    }
  ]
}