{
  "nbformat": 4,
  "nbformat_minor": 0,
  "metadata": {
    "colab": {
      "provenance": []
    },
    "kernelspec": {
      "name": "python3",
      "display_name": "Python 3"
    },
    "language_info": {
      "name": "python"
    }
  },
  "cells": [
    {
      "cell_type": "code",
      "execution_count": 10,
      "metadata": {
        "colab": {
          "base_uri": "https://localhost:8080/"
        },
        "id": "pe_s5kaF5hT3",
        "outputId": "79b2d7b6-6002-4d08-fe46-2461c4325c25"
      },
      "outputs": [
        {
          "output_type": "stream",
          "name": "stdout",
          "text": [
            "Hi, Faisal\n",
            "Hi, Khalid\n",
            "Hi, Omer\n"
          ]
        }
      ],
      "source": [
        "names = [\"faisal\", \"khalid\", \"omer\"]\n",
        "\n",
        "msg = \"Hi, \" + names[0].title()\n",
        "print(msg)\n",
        "\n",
        "msg = \"Hi, \" + names[1].title()\n",
        "print(msg)\n",
        "\n",
        "msg = \"Hi, \" + names[2].title()\n",
        "print(msg)"
      ]
    }
  ]
}