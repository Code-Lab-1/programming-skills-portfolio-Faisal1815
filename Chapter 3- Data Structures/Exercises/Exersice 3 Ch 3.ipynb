{
  "nbformat": 4,
  "nbformat_minor": 0,
  "metadata": {
    "colab": {
      "provenance": []
    },
    "kernelspec": {
      "name": "python3",
      "display_name": "Python 3"
    },
    "language_info": {
      "name": "python"
    }
  },
  "cells": [
    {
      "cell_type": "code",
      "execution_count": 1,
      "metadata": {
        "colab": {
          "base_uri": "https://localhost:8080/"
        },
        "id": "tPqpjZ3tvQwO",
        "outputId": "8bd277e8-5b9e-4cd2-ee20-a18ab48744ea"
      },
      "outputs": [
        {
          "output_type": "stream",
          "name": "stdout",
          "text": [
            "I would like to drive a dinghy\n",
            "I would like to drive a yacht\n",
            "I would like to drive a oil tanker\n",
            "I would like to drive a battleship\n",
            "I would like to drive a submarine\n"
          ]
        }
      ],
      "source": [
        "Ships=[\"dinghy\",\"yacht\",\"oil tanker\",\"battleship\",\"submarine\"]\n",
        "print(\"I would like to drive a\",Ships[0])\n",
        "print(\"I would like to drive a\",Ships[1])\n",
        "print(\"I would like to drive a\",Ships[2])\n",
        "print(\"I would like to drive a\",Ships[3])\n",
        "print(\"I would like to drive a\",Ships[4])"
      ]
    }
  ]
}