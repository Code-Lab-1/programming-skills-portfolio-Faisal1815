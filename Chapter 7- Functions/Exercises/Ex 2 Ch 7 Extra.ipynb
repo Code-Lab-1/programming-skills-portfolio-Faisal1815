{
  "nbformat": 4,
  "nbformat_minor": 0,
  "metadata": {
    "colab": {
      "provenance": []
    },
    "kernelspec": {
      "name": "python3",
      "display_name": "Python 3"
    },
    "language_info": {
      "name": "python"
    }
  },
  "cells": [
    {
      "cell_type": "code",
      "execution_count": 3,
      "metadata": {
        "colab": {
          "base_uri": "https://localhost:8080/"
        },
        "id": "oL7ztUarQPtY",
        "outputId": "75596ea9-7449-4762-c717-e6da7b2c7a01"
      },
      "outputs": [
        {
          "output_type": "stream",
          "name": "stdout",
          "text": [
            "The Burger is one of my favorite food.\n"
          ]
        }
      ],
      "source": [
        "def favorite_food(title):\n",
        "    \"\"\"Display a message about someone's favorite food.\"\"\"\n",
        "    print(title + \" is one of my favorite food.\")\n",
        "\n",
        "favorite_food('The Burger')"
      ]
    }
  ]
}