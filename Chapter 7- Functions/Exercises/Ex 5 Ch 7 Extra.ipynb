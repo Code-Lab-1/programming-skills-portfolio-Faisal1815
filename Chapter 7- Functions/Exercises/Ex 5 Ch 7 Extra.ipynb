{
  "nbformat": 4,
  "nbformat_minor": 0,
  "metadata": {
    "colab": {
      "provenance": []
    },
    "kernelspec": {
      "name": "python3",
      "display_name": "Python 3"
    },
    "language_info": {
      "name": "python"
    }
  },
  "cells": [
    {
      "cell_type": "code",
      "source": [
        "def describe_city(city, country='chile'):\n",
        "    \"\"\"Describe a city.\"\"\"\n",
        "    msg = city.title() + \" is in \" + country.title() + \".\"\n",
        "    print(msg)\n",
        "\n",
        "describe_city('syria', 'iceland')\n",
        "describe_city('korea', 'iceland')\n",
        "describe_city('kwait')"
      ],
      "metadata": {
        "colab": {
          "base_uri": "https://localhost:8080/"
        },
        "id": "qwTlLs3ITy9y",
        "outputId": "d004f989-d982-47c0-c8f7-94833801925e"
      },
      "execution_count": 8,
      "outputs": [
        {
          "output_type": "stream",
          "name": "stdout",
          "text": [
            "Syria is in Iceland.\n",
            "Korea is in Iceland.\n",
            "Kwait is in Chile.\n"
          ]
        }
      ]
    }
  ]
}