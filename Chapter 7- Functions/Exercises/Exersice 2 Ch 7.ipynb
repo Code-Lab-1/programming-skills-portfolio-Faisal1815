{
  "nbformat": 4,
  "nbformat_minor": 0,
  "metadata": {
    "colab": {
      "provenance": []
    },
    "kernelspec": {
      "name": "python3",
      "display_name": "Python 3"
    },
    "language_info": {
      "name": "python"
    }
  },
  "cells": [
    {
      "cell_type": "code",
      "execution_count": 10,
      "metadata": {
        "colab": {
          "base_uri": "https://localhost:8080/"
        },
        "id": "8bAlp75tZi4u",
        "outputId": "6eed8c05-1bbe-4f71-96c9-84df932889dc"
      },
      "outputs": [
        {
          "output_type": "stream",
          "name": "stdout",
          "text": [
            "The book thief is one of my favorite books.\n"
          ]
        }
      ],
      "source": [
        "def favorite_book(title):\n",
        "    \"\"\"Display a message about someone's favorite book.\"\"\"\n",
        "    print(title + \" is one of my favorite books.\")\n",
        "\n",
        "favorite_book('The book thief')"
      ]
    }
  ]
}