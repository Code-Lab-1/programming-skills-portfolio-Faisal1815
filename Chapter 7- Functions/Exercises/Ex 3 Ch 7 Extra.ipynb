{
  "nbformat": 4,
  "nbformat_minor": 0,
  "metadata": {
    "colab": {
      "provenance": []
    },
    "kernelspec": {
      "name": "python3",
      "display_name": "Python 3"
    },
    "language_info": {
      "name": "python"
    }
  },
  "cells": [
    {
      "cell_type": "code",
      "execution_count": 5,
      "metadata": {
        "colab": {
          "base_uri": "https://localhost:8080/"
        },
        "id": "oL7ztUarQPtY",
        "outputId": "bb34c589-6c59-4a04-b034-7339baf5a847"
      },
      "outputs": [
        {
          "output_type": "stream",
          "name": "stdout",
          "text": [
            "\n",
            "I'm going to wear a small t-shirt.\n",
            "It will say, \"Dont give up!\"\n",
            "\n",
            "I'm going to wear a small t-shirt.\n",
            "It will say, \"Readability counts.\"\n"
          ]
        }
      ],
      "source": [
        "def make_shirt(size, message):\n",
        "    \"\"\"Summarize the shirt that's going to be wear.\"\"\"\n",
        "    print(\"\\nI'm going to wear a \" + size + \" t-shirt.\")\n",
        "    print('It will say, \"' + message + '\"')\n",
        "\n",
        "make_shirt('small', 'Dont give up!')\n",
        "make_shirt(message=\"Readability counts.\", size='small')"
      ]
    }
  ]
}