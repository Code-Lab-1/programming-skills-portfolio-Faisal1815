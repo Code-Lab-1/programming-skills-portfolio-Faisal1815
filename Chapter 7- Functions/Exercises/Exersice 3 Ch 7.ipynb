{
  "nbformat": 4,
  "nbformat_minor": 0,
  "metadata": {
    "colab": {
      "provenance": []
    },
    "kernelspec": {
      "name": "python3",
      "display_name": "Python 3"
    },
    "language_info": {
      "name": "python"
    }
  },
  "cells": [
    {
      "cell_type": "code",
      "execution_count": 12,
      "metadata": {
        "colab": {
          "base_uri": "https://localhost:8080/"
        },
        "id": "8bAlp75tZi4u",
        "outputId": "1dd3e37e-7233-4028-fe41-e171924eb66d"
      },
      "outputs": [
        {
          "output_type": "stream",
          "name": "stdout",
          "text": [
            "\n",
            "I'm going to make a medium t-shirt.\n",
            "It will say, \"Dont give up!\"\n",
            "\n",
            "I'm going to make a large t-shirt.\n",
            "It will say, \"Readability counts.\"\n"
          ]
        }
      ],
      "source": [
        "def make_shirt(size, message):\n",
        "    \"\"\"Summarize the shirt that's going to be made.\"\"\"\n",
        "    print(\"\\nI'm going to make a \" + size + \" t-shirt.\")\n",
        "    print('It will say, \"' + message + '\"')\n",
        "\n",
        "make_shirt('medium', 'Dont give up!')\n",
        "make_shirt(message=\"Readability counts.\", size='large')"
      ]
    }
  ]
}