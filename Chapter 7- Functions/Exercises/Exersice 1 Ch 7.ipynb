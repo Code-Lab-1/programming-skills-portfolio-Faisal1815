{
  "nbformat": 4,
  "nbformat_minor": 0,
  "metadata": {
    "colab": {
      "provenance": []
    },
    "kernelspec": {
      "name": "python3",
      "display_name": "Python 3"
    },
    "language_info": {
      "name": "python"
    }
  },
  "cells": [
    {
      "cell_type": "code",
      "execution_count": null,
      "metadata": {
        "id": "3pXzZiqV_oUz"
      },
      "outputs": [],
      "source": [
        "sandwich_orders = ['toasted cheese', 'chicken salad', 'smoked turkey', 'grilled chicken']\n",
        "finished_sandwiches = []\n",
        "\n",
        "while sandwich_orders:\n",
        "    current_sandwich = sandwich_orders.pop()\n",
        "    print(\"I'm working on your \" + current_sandwich + \" sandwich.\")\n",
        "    finished_sandwiches.append(current_sandwich)\n",
        "\n",
        "print(\"\\n\")\n",
        "for sandwich in finished_sandwiches:\n",
        "    print(\"I made a \" + sandwich + \" sandwich.\")"
      ]
    },
    {
      "cell_type": "code",
      "source": [
        "def display_message():\n",
        "    \"Display a message about what I'm learning.\"\n",
        "    msg = \"I am learning the Python programming language.\"\n",
        "    print(msg)\n",
        "\n",
        "display_message()"
      ],
      "metadata": {
        "colab": {
          "base_uri": "https://localhost:8080/"
        },
        "id": "n3IblhaCFpmg",
        "outputId": "7943786c-49e2-40ff-9f39-99564d884c15"
      },
      "execution_count": 2,
      "outputs": [
        {
          "output_type": "stream",
          "name": "stdout",
          "text": [
            "I am learning the Python programming language.\n"
          ]
        }
      ]
    }
  ]
}