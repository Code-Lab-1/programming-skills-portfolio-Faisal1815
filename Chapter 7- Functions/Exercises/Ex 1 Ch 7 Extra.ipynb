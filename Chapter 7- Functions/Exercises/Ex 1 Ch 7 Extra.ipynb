{
  "nbformat": 4,
  "nbformat_minor": 0,
  "metadata": {
    "colab": {
      "provenance": []
    },
    "kernelspec": {
      "name": "python3",
      "display_name": "Python 3"
    },
    "language_info": {
      "name": "python"
    }
  },
  "cells": [
    {
      "cell_type": "code",
      "execution_count": 1,
      "metadata": {
        "colab": {
          "base_uri": "https://localhost:8080/"
        },
        "id": "oL7ztUarQPtY",
        "outputId": "c3d10c75-f052-444f-b96d-1ec8aa52d0b8"
      },
      "outputs": [
        {
          "output_type": "stream",
          "name": "stdout",
          "text": [
            "I am eating cheese sandwich.\n"
          ]
        }
      ],
      "source": [
        "def display_message():\n",
        "    \"Display a message about what I'm eating.\"\n",
        "    msg = \"I am eating cheese sandwich.\"\n",
        "    print(msg)\n",
        "\n",
        "display_message()"
      ]
    }
  ]
}