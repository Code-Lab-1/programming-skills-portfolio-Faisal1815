{
  "nbformat": 4,
  "nbformat_minor": 0,
  "metadata": {
    "colab": {
      "provenance": []
    },
    "kernelspec": {
      "name": "python3",
      "display_name": "Python 3"
    },
    "language_info": {
      "name": "python"
    }
  },
  "cells": [
    {
      "cell_type": "code",
      "execution_count": 15,
      "metadata": {
        "colab": {
          "base_uri": "https://localhost:8080/"
        },
        "id": "8bAlp75tZi4u",
        "outputId": "3aa2567f-4b0b-4dfd-9bc2-20064a15f154"
      },
      "outputs": [
        {
          "output_type": "stream",
          "name": "stdout",
          "text": [
            "China is in Chile.\n",
            "Korea is in Iceland.\n",
            "Kwait is in Chile.\n"
          ]
        }
      ],
      "source": [
        "def describe_city(city, country='chile'):\n",
        "    \"\"\"Describe a city.\"\"\"\n",
        "    msg = city.title() + \" is in \" + country.title() + \".\"\n",
        "    print(msg)\n",
        "\n",
        "describe_city('china')\n",
        "describe_city('korea', 'iceland')\n",
        "describe_city('kwait')"
      ]
    }
  ]
}