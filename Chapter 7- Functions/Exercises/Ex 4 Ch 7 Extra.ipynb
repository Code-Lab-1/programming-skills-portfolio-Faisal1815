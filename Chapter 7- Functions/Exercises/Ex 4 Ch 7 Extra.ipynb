{
  "nbformat": 4,
  "nbformat_minor": 0,
  "metadata": {
    "colab": {
      "provenance": []
    },
    "kernelspec": {
      "name": "python3",
      "display_name": "Python 3"
    },
    "language_info": {
      "name": "python"
    }
  },
  "cells": [
    {
      "cell_type": "code",
      "execution_count": 7,
      "metadata": {
        "colab": {
          "base_uri": "https://localhost:8080/"
        },
        "id": "oL7ztUarQPtY",
        "outputId": "40b4c01f-c4c6-4c1c-c39d-29c827629c06"
      },
      "outputs": [
        {
          "output_type": "stream",
          "name": "stdout",
          "text": [
            "\n",
            "I'm going to make a X-large t-shirt.\n",
            "It will say, \"I love Programming!\"\n",
            "\n",
            "I'm going to make a small t-shirt.\n",
            "It will say, \"I love Programming!\"\n",
            "\n",
            "I'm going to make a small t-shirt.\n",
            "It will say, \"Programmers are smart.\"\n"
          ]
        }
      ],
      "source": [
        "def make_shirt(size='X-large', message='I love Programming!'):\n",
        "    \"\"\"Summarize the shirt that's going to be made.\"\"\"\n",
        "    print(\"\\nI'm going to make a \" + size + \" t-shirt.\")\n",
        "    print('It will say, \"' + message + '\"')\n",
        "\n",
        "make_shirt()\n",
        "make_shirt(size='small')\n",
        "make_shirt('small', 'Programmers are smart.')"
      ]
    }
  ]
}