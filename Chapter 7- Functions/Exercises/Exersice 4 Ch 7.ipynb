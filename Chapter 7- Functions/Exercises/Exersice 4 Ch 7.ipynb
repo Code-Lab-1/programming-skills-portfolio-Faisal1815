{
  "nbformat": 4,
  "nbformat_minor": 0,
  "metadata": {
    "colab": {
      "provenance": []
    },
    "kernelspec": {
      "name": "python3",
      "display_name": "Python 3"
    },
    "language_info": {
      "name": "python"
    }
  },
  "cells": [
    {
      "cell_type": "code",
      "execution_count": 14,
      "metadata": {
        "colab": {
          "base_uri": "https://localhost:8080/"
        },
        "id": "8bAlp75tZi4u",
        "outputId": "ea2c5726-d998-4023-e6f8-6f0ad0d6c2e4"
      },
      "outputs": [
        {
          "output_type": "stream",
          "name": "stdout",
          "text": [
            "\n",
            "I'm going to make a small t-shirt.\n",
            "It will say, \"I love Python!\"\n",
            "\n",
            "I'm going to make a large t-shirt.\n",
            "It will say, \"I love Python!\"\n",
            "\n",
            "I'm going to make a small t-shirt.\n",
            "It will say, \"Programmers are loopy.\"\n"
          ]
        }
      ],
      "source": [
        "def make_shirt(size='small', message='I love Python!'):\n",
        "    \"\"\"Summarize the shirt that's going to be made.\"\"\"\n",
        "    print(\"\\nI'm going to make a \" + size + \" t-shirt.\")\n",
        "    print('It will say, \"' + message + '\"')\n",
        "\n",
        "make_shirt()\n",
        "make_shirt(size='large')\n",
        "make_shirt('small', 'Programmers are loopy.')"
      ]
    }
  ]
}