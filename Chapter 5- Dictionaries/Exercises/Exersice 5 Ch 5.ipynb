{
  "nbformat": 4,
  "nbformat_minor": 0,
  "metadata": {
    "colab": {
      "provenance": []
    },
    "kernelspec": {
      "name": "python3",
      "display_name": "Python 3"
    },
    "language_info": {
      "name": "python"
    }
  },
  "cells": [
    {
      "cell_type": "code",
      "execution_count": 4,
      "metadata": {
        "colab": {
          "base_uri": "https://localhost:8080/"
        },
        "id": "zb4y2JFo-8wJ",
        "outputId": "2dba3b1e-294f-4ceb-9264-187c7613bc43"
      },
      "outputs": [
        {
          "output_type": "stream",
          "name": "stdout",
          "text": [
            "\n",
            "Here's what I know about Sandy:\n",
            "\tanimal type: cat\n",
            "\tname: sandy\n",
            "\towner: faisal\n",
            "\tweight: 15\n",
            "\teats: fish\n",
            "\n",
            "Here's what I know about Chok:\n",
            "\tanimal type: chicken\n",
            "\tname: chok\n",
            "\towner: omer\n",
            "\tweight: 1\n",
            "\teats: grain\n",
            "\n",
            "Here's what I know about Mark:\n",
            "\tanimal type: elephant\n",
            "\tname: mark\n",
            "\towner: salem\n",
            "\tweight: 400\n",
            "\teats: meats\n"
          ]
        }
      ],
      "source": [
        "pets = []\n",
        "\n",
        "pet = {\n",
        "    'animal type': 'cat',\n",
        "    'name': 'sandy',\n",
        "    'owner': 'faisal',\n",
        "    'weight': 15,\n",
        "    'eats': 'fish',\n",
        "}\n",
        "pets.append(pet)\n",
        "\n",
        "pet = {\n",
        "    'animal type': 'chicken',\n",
        "    'name': 'chok',\n",
        "    'owner': 'omer',\n",
        "    'weight': 1,\n",
        "    'eats': 'grain',\n",
        "}\n",
        "pets.append(pet)\n",
        "\n",
        "pet = {\n",
        "    'animal type': 'elephant',\n",
        "    'name': 'mark',\n",
        "    'owner': 'salem',\n",
        "    'weight': 400,\n",
        "    'eats': 'meats',\n",
        "}\n",
        "pets.append(pet)\n",
        "\n",
        "for pet in pets:\n",
        "    print(\"\\nHere's what I know about \" + pet['name'].title() + \":\")\n",
        "    for key, value in pet.items():\n",
        "        print(\"\\t\" + key + \": \" + str(value))"
      ]
    }
  ]
}