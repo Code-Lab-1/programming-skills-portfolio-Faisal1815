{
  "nbformat": 4,
  "nbformat_minor": 0,
  "metadata": {
    "colab": {
      "provenance": []
    },
    "kernelspec": {
      "name": "python3",
      "display_name": "Python 3"
    },
    "language_info": {
      "name": "python"
    }
  },
  "cells": [
    {
      "cell_type": "code",
      "execution_count": 1,
      "metadata": {
        "colab": {
          "base_uri": "https://localhost:8080/"
        },
        "id": "zb4y2JFo-8wJ",
        "outputId": "0dc84ce4-b541-441c-fa37-55d678eecce5"
      },
      "outputs": [
        {
          "output_type": "stream",
          "name": "stdout",
          "text": [
            "\n",
            "String: A series of characters.\n",
            "\n",
            "Comment: A note in a program that the Python interpreter ignores.\n",
            "\n",
            "List: A collection of items in a particular order.\n",
            "\n",
            "Loop: Work through a collection of items, one at a time.\n",
            "\n",
            "Dictionary: A collection of key-value pairs.\n"
          ]
        }
      ],
      "source": [
        "glossary = {\n",
        "    'string': 'A series of characters.',\n",
        "    'comment': 'A note in a program that the Python interpreter ignores.',\n",
        "    'list': 'A collection of items in a particular order.',\n",
        "    'loop': 'Work through a collection of items, one at a time.',\n",
        "    'dictionary': \"A collection of key-value pairs.\",\n",
        "    }\n",
        "\n",
        "word = 'string'\n",
        "print(\"\\n\" + word.title() + \": \" + glossary[word])\n",
        "\n",
        "word = 'comment'\n",
        "print(\"\\n\" + word.title() + \": \" + glossary[word])\n",
        "\n",
        "word = 'list'\n",
        "print(\"\\n\" + word.title() + \": \" + glossary[word])\n",
        "\n",
        "word = 'loop'\n",
        "print(\"\\n\" + word.title() + \": \" + glossary[word])\n",
        "\n",
        "word = 'dictionary'\n",
        "print(\"\\n\" + word.title() + \": \" + glossary[word])"
      ]
    }
  ]
}