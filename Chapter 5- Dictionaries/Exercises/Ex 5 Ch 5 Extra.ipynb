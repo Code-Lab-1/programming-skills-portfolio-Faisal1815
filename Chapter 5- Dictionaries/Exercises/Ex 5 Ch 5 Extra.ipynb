{
  "nbformat": 4,
  "nbformat_minor": 0,
  "metadata": {
    "colab": {
      "provenance": []
    },
    "kernelspec": {
      "name": "python3",
      "display_name": "Python 3"
    },
    "language_info": {
      "name": "python"
    }
  },
  "cells": [
    {
      "cell_type": "code",
      "source": [
        "pets = []\n",
        "\n",
        "pet = {\n",
        "    'animal type': 'fish',\n",
        "    'name': 'mary',\n",
        "    'owner': 'khan',\n",
        "    'weight': 0.30,\n",
        "    'eats': 'veg',\n",
        "}\n",
        "pets.append(pet)\n",
        "\n",
        "pet = {\n",
        "    'animal type': 'cow',\n",
        "    'name': 'camela',\n",
        "    'owner': 'Usman',\n",
        "    'weight': 800,\n",
        "    'eats': 'grain',\n",
        "}\n",
        "pets.append(pet)\n",
        "\n",
        "pet = {\n",
        "    'animal type': 'bird',\n",
        "    'name': 'siko',\n",
        "    'owner': 'hamad',\n",
        "    'weight': 0.6,\n",
        "    'eats': 'worms',\n",
        "}\n",
        "pets.append(pet)\n",
        "\n",
        "for pet in pets:\n",
        "    print(\"\\nHere's what I know about \" + pet['name'].title() + \":\")\n",
        "    for key, value in pet.items():\n",
        "        print(\"\\t\" + key + \": \" + str(value))"
      ],
      "metadata": {
        "id": "bBOErcGx5opD",
        "colab": {
          "base_uri": "https://localhost:8080/"
        },
        "outputId": "44c81d00-30e1-49e0-e293-60f363413196"
      },
      "execution_count": 7,
      "outputs": [
        {
          "output_type": "stream",
          "name": "stdout",
          "text": [
            "\n",
            "Here's what I know about Mary:\n",
            "\tanimal type: fish\n",
            "\tname: mary\n",
            "\towner: khan\n",
            "\tweight: 0.3\n",
            "\teats: veg\n",
            "\n",
            "Here's what I know about Camela:\n",
            "\tanimal type: cow\n",
            "\tname: camela\n",
            "\towner: Usman\n",
            "\tweight: 800\n",
            "\teats: grain\n",
            "\n",
            "Here's what I know about Siko:\n",
            "\tanimal type: bird\n",
            "\tname: siko\n",
            "\towner: hamad\n",
            "\tweight: 0.6\n",
            "\teats: worms\n"
          ]
        }
      ]
    }
  ]
}