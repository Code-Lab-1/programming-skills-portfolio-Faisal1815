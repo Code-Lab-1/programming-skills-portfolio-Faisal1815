{
  "nbformat": 4,
  "nbformat_minor": 0,
  "metadata": {
    "colab": {
      "provenance": []
    },
    "kernelspec": {
      "name": "python3",
      "display_name": "Python 3"
    },
    "language_info": {
      "name": "python"
    }
  },
  "cells": [
    {
      "cell_type": "code",
      "source": [
        "glossary = {\n",
        "    'string': 'Strings are arrays of bytes representing Unicode characters.',\n",
        "    'comment': 'Inclusion of short descriptions along with the code to increase its readability.',\n",
        "    'list': 'Lists are used to store multiple items in a single variable.',\n",
        "    'loop': ' loop is used for iterating over a sequence.',\n",
        "    'dictionary': \"Dictionaries are used to store data values in key:value pairs.\",\n",
        "    }\n",
        "\n",
        "word = 'string'\n",
        "print(\"\\n\" + word.title() + \": \" + glossary[word])\n",
        "\n",
        "word = 'comment'\n",
        "print(\"\\n\" + word.title() + \": \" + glossary[word])\n",
        "\n",
        "word = 'list'\n",
        "print(\"\\n\" + word.title() + \": \" + glossary[word])\n",
        "\n",
        "word = 'loop'\n",
        "print(\"\\n\" + word.title() + \": \" + glossary[word])\n",
        "\n",
        "word = 'dictionary'\n",
        "print(\"\\n\" + word.title() + \": \" + glossary[word])"
      ],
      "metadata": {
        "colab": {
          "base_uri": "https://localhost:8080/"
        },
        "id": "CXWCS1LR0LyJ",
        "outputId": "bc9b3c2b-1a76-49c2-9ad1-15989a69941e"
      },
      "execution_count": 4,
      "outputs": [
        {
          "output_type": "stream",
          "name": "stdout",
          "text": [
            "\n",
            "String: Strings are arrays of bytes representing Unicode characters.\n",
            "\n",
            "Comment: Inclusion of short descriptions along with the code to increase its readability.\n",
            "\n",
            "List: Lists are used to store multiple items in a single variable.\n",
            "\n",
            "Loop:  loop is used for iterating over a sequence.\n",
            "\n",
            "Dictionary: Dictionaries are used to store data values in key:value pairs.\n"
          ]
        }
      ]
    }
  ]
}