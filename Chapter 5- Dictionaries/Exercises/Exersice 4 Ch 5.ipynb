{
  "nbformat": 4,
  "nbformat_minor": 0,
  "metadata": {
    "colab": {
      "provenance": []
    },
    "kernelspec": {
      "name": "python3",
      "display_name": "Python 3"
    },
    "language_info": {
      "name": "python"
    }
  },
  "cells": [
    {
      "cell_type": "code",
      "execution_count": 2,
      "metadata": {
        "colab": {
          "base_uri": "https://localhost:8080/"
        },
        "id": "zb4y2JFo-8wJ",
        "outputId": "c8b7805e-689a-4506-e10c-a8c7e0722890"
      },
      "outputs": [
        {
          "output_type": "stream",
          "name": "stdout",
          "text": [
            "The Nile flows through Egypt.\n",
            "The Mississippi flows through United States.\n",
            "The Fraser flows through Canada.\n",
            "The Kuskokwim flows through Alaska.\n",
            "The Yangtze flows through China.\n",
            "\n",
            "The following rivers are included in this data set:\n",
            "- Nile\n",
            "- Mississippi\n",
            "- Fraser\n",
            "- Kuskokwim\n",
            "- Yangtze\n",
            "\n",
            "The following countries are included in this data set:\n",
            "- Egypt\n",
            "- United States\n",
            "- Canada\n",
            "- Alaska\n",
            "- China\n"
          ]
        }
      ],
      "source": [
        "rivers = {\n",
        "    'nile': 'egypt',\n",
        "    'mississippi': 'united states',\n",
        "    'fraser': 'canada',\n",
        "    'kuskokwim': 'alaska',\n",
        "    'yangtze': 'china',\n",
        "    }\n",
        "\n",
        "for river, country in rivers.items():\n",
        "    print(\"The \" + river.title() + \" flows through \" + country.title() + \".\")\n",
        "\n",
        "print(\"\\nThe following rivers are included in this data set:\")\n",
        "for river in rivers.keys():\n",
        "    print(\"- \" + river.title())\n",
        "\n",
        "print(\"\\nThe following countries are included in this data set:\")\n",
        "for country in rivers.values():\n",
        "    print(\"- \" + country.title())"
      ]
    }
  ]
}