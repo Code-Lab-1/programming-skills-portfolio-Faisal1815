{
  "nbformat": 4,
  "nbformat_minor": 0,
  "metadata": {
    "colab": {
      "provenance": []
    },
    "kernelspec": {
      "name": "python3",
      "display_name": "Python 3"
    },
    "language_info": {
      "name": "python"
    }
  },
  "cells": [
    {
      "cell_type": "code",
      "source": [
        "rivers = {\n",
        "    'burj kalifa': 'dubai',\n",
        "    'berlin': 'germany',\n",
        "    'homs': 'syria',\n",
        "    'ghaza': 'palastine',\n",
        "    'tokyo': 'japan',\n",
        "    }\n",
        "\n",
        "for river, country in rivers.items():\n",
        "    print(\"The \" + river.title() + \" flows through \" + country.title() + \".\")\n",
        "\n",
        "print(\"\\nThe following rivers are included in this data set:\")\n",
        "for river in rivers.keys():\n",
        "    print(\"- \" + river.title())\n",
        "\n",
        "print(\"\\nThe following countries are included in this data set:\")\n",
        "for country in rivers.values():\n",
        "    print(\"- \" + country.title())"
      ],
      "metadata": {
        "colab": {
          "base_uri": "https://localhost:8080/"
        },
        "id": "d23WrpE338M2",
        "outputId": "00ba2223-8fdb-43f4-a806-1d1755101488"
      },
      "execution_count": 6,
      "outputs": [
        {
          "output_type": "stream",
          "name": "stdout",
          "text": [
            "The Burj Kalifa flows through Dubai.\n",
            "The Berlin flows through Germany.\n",
            "The Homs flows through Syria.\n",
            "The Ghaza flows through Palastine.\n",
            "The Tokyo flows through Japan.\n",
            "\n",
            "The following rivers are included in this data set:\n",
            "- Burj Kalifa\n",
            "- Berlin\n",
            "- Homs\n",
            "- Ghaza\n",
            "- Tokyo\n",
            "\n",
            "The following countries are included in this data set:\n",
            "- Dubai\n",
            "- Germany\n",
            "- Syria\n",
            "- Palastine\n",
            "- Japan\n"
          ]
        }
      ]
    }
  ]
}