{
  "nbformat": 4,
  "nbformat_minor": 0,
  "metadata": {
    "colab": {
      "provenance": []
    },
    "kernelspec": {
      "name": "python3",
      "display_name": "Python 3"
    },
    "language_info": {
      "name": "python"
    }
  },
  "cells": [
    {
      "cell_type": "code",
      "source": [
        "glossary = {\n",
        "    'string': 'Strings are arrays of bytes representing Unicode characters.',\n",
        "    'comment': 'Inclusion of short descriptions along with the code to increase its readability.',\n",
        "    'list': 'Lists are used to store multiple items in a single variable.',\n",
        "    'loop': ' loop is used for iterating over a sequence.',\n",
        "    'dictionary': \"Dictionaries are used to store data values in key:value pairs.\",\n",
        "    'key': 'The first item in a key-value pair in a dictionary.',\n",
        "    'value': 'An item associated with a key in a dictionary.',\n",
        "    'conditional test': 'A comparison between two values.',\n",
        "    'float': 'A numerical value with a decimal component.',\n",
        "    'boolean expression': 'An expression that evaluates to True or False.',\n",
        "    }\n",
        "\n",
        "for word, definition in glossary.items():\n",
        "    print(\"\\n\" + word.title() + \": \" + definition)"
      ],
      "metadata": {
        "colab": {
          "base_uri": "https://localhost:8080/"
        },
        "id": "CXWCS1LR0LyJ",
        "outputId": "d4bb4660-91a4-41e6-9c61-3c8173b66e23"
      },
      "execution_count": 5,
      "outputs": [
        {
          "output_type": "stream",
          "name": "stdout",
          "text": [
            "\n",
            "String: Strings are arrays of bytes representing Unicode characters.\n",
            "\n",
            "Comment: Inclusion of short descriptions along with the code to increase its readability.\n",
            "\n",
            "List: Lists are used to store multiple items in a single variable.\n",
            "\n",
            "Loop:  loop is used for iterating over a sequence.\n",
            "\n",
            "Dictionary: Dictionaries are used to store data values in key:value pairs.\n",
            "\n",
            "Key: The first item in a key-value pair in a dictionary.\n",
            "\n",
            "Value: An item associated with a key in a dictionary.\n",
            "\n",
            "Conditional Test: A comparison between two values.\n",
            "\n",
            "Float: A numerical value with a decimal component.\n",
            "\n",
            "Boolean Expression: An expression that evaluates to True or False.\n"
          ]
        }
      ]
    }
  ]
}