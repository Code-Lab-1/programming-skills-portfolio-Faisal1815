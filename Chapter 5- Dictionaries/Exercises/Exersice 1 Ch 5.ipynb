{
  "nbformat": 4,
  "nbformat_minor": 0,
  "metadata": {
    "colab": {
      "provenance": []
    },
    "kernelspec": {
      "name": "python3",
      "display_name": "Python 3"
    },
    "language_info": {
      "name": "python"
    }
  },
  "cells": [
    {
      "cell_type": "code",
      "execution_count": null,
      "metadata": {
        "colab": {
          "base_uri": "https://localhost:8080/"
        },
        "id": "w1Sg46Mi4Get",
        "outputId": "a4e5f3d8-5e4c-4b03-d5dc-b6ca0bf4ba25"
      },
      "outputs": [
        {
          "output_type": "stream",
          "name": "stdout",
          "text": [
            "You just earned 5 points!\n"
          ]
        }
      ],
      "source": [
        "alien_color = 'green'\n",
        "\n",
        "if alien_color == 'green':\n",
        "    print(\"You just earned 5 points!\")\n",
        "else:\n",
        "    print(\"You just earned 10 points!\")"
      ]
    },
    {
      "cell_type": "code",
      "source": [
        "person = {\n",
        "    'first_name': 'faisal',\n",
        "    'last_name': 'safaf',\n",
        "    'age': 18,\n",
        "    'city': 'RAK',\n",
        "    }\n",
        "\n",
        "print(person['first_name'])\n",
        "print(person['last_name'])\n",
        "print(person['age'])\n",
        "print(person['city'])"
      ],
      "metadata": {
        "id": "luHC0JYy6WHO",
        "colab": {
          "base_uri": "https://localhost:8080/"
        },
        "outputId": "1e94f255-594a-41ab-a706-bf2512308e16"
      },
      "execution_count": 12,
      "outputs": [
        {
          "output_type": "stream",
          "name": "stdout",
          "text": [
            "faisal\n",
            "safaf\n",
            "18\n",
            "RAK\n"
          ]
        }
      ]
    },
    {
      "cell_type": "code",
      "source": [],
      "metadata": {
        "id": "-oojHdJH5iZ7"
      },
      "execution_count": null,
      "outputs": []
    }
  ]
}