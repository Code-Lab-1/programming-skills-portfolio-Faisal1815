{
  "nbformat": 4,
  "nbformat_minor": 0,
  "metadata": {
    "colab": {
      "provenance": []
    },
    "kernelspec": {
      "name": "python3",
      "display_name": "Python 3"
    },
    "language_info": {
      "name": "python"
    }
  },
  "cells": [
    {
      "cell_type": "code",
      "execution_count": 1,
      "metadata": {
        "colab": {
          "base_uri": "https://localhost:8080/"
        },
        "id": "_UgoMCd6wikk",
        "outputId": "c273e68c-0c3d-4eb9-f6f4-3fb3383c2a7e"
      },
      "outputs": [
        {
          "output_type": "stream",
          "name": "stdout",
          "text": [
            "khalid\n",
            "omari\n",
            "25\n",
            "dubai\n"
          ]
        }
      ],
      "source": [
        "person = {\n",
        "    'first_name': 'khalid',\n",
        "    'last_name': 'omari',\n",
        "    'age': 25,\n",
        "    'city': 'dubai',\n",
        "    }\n",
        "\n",
        "print(person['first_name'])\n",
        "print(person['last_name'])\n",
        "print(person['city'])\n",
        "print(person['age'])"
      ]
    }
  ]
}