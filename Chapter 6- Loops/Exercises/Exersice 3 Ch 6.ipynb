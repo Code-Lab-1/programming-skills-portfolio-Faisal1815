{
  "nbformat": 4,
  "nbformat_minor": 0,
  "metadata": {
    "colab": {
      "provenance": []
    },
    "kernelspec": {
      "name": "python3",
      "display_name": "Python 3"
    },
    "language_info": {
      "name": "python"
    }
  },
  "cells": [
    {
      "cell_type": "code",
      "execution_count": null,
      "metadata": {
        "colab": {
          "base_uri": "https://localhost:8080/"
        },
        "id": "3pXzZiqV_oUz",
        "outputId": "047dec24-f288-42c9-cd6d-aefdb570d68f"
      },
      "outputs": [
        {
          "output_type": "stream",
          "name": "stdout",
          "text": [
            "How old are you? 2\n",
            "Your ticket is free\n",
            "How old are you? 5\n",
            "Your ticket is $10\n",
            "How old are you? 10\n",
            "Your ticket is $10\n",
            "How old are you? 14\n",
            "Your ticket is $15\n",
            "How old are you? 20\n",
            "Your ticket is $15\n"
          ]
        }
      ],
      "source": [
        "while True:\n",
        "    age = input(\"How old are you? \")\n",
        "    \n",
        "    age = int(age)\n",
        "    if age < 3:\n",
        "        print(\"Your ticket is free\")\n",
        "    elif age < 12:\n",
        "        print(\"Your ticket is $10\") \n",
        "    else:\n",
        "        print(\"Your ticket is $15\")"
      ]
    }
  ]
}