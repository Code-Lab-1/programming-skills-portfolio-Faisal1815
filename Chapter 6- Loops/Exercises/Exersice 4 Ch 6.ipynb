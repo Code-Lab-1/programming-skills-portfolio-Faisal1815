{
  "nbformat": 4,
  "nbformat_minor": 0,
  "metadata": {
    "colab": {
      "provenance": []
    },
    "kernelspec": {
      "name": "python3",
      "display_name": "Python 3"
    },
    "language_info": {
      "name": "python"
    }
  },
  "cells": [
    {
      "cell_type": "code",
      "execution_count": 5,
      "metadata": {
        "colab": {
          "base_uri": "https://localhost:8080/"
        },
        "id": "3pXzZiqV_oUz",
        "outputId": "d55e5f68-5170-4456-f0b9-fcbd778d0e51"
      },
      "outputs": [
        {
          "output_type": "stream",
          "name": "stdout",
          "text": [
            "I'm working on your grilled chicken sandwich.\n",
            "I'm working on your smoked turkey sandwich.\n",
            "I'm working on your chicken salad sandwich.\n",
            "I'm working on your toasted cheese sandwich.\n",
            "\n",
            "\n",
            "I made a grilled chicken sandwich.\n",
            "I made a smoked turkey sandwich.\n",
            "I made a chicken salad sandwich.\n",
            "I made a toasted cheese sandwich.\n"
          ]
        }
      ],
      "source": [
        "sandwich_orders = ['toasted cheese', 'chicken salad', 'smoked turkey', 'grilled chicken']\n",
        "finished_sandwiches = []\n",
        "\n",
        "while sandwich_orders:\n",
        "    current_sandwich = sandwich_orders.pop()\n",
        "    print(\"I'm working on your \" + current_sandwich + \" sandwich.\")\n",
        "    finished_sandwiches.append(current_sandwich)\n",
        "\n",
        "print(\"\\n\")\n",
        "for sandwich in finished_sandwiches:\n",
        "    print(\"I made a \" + sandwich + \" sandwich.\")"
      ]
    }
  ]
}