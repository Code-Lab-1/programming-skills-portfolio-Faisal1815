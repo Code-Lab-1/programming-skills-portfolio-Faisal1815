{
  "nbformat": 4,
  "nbformat_minor": 0,
  "metadata": {
    "colab": {
      "provenance": []
    },
    "kernelspec": {
      "name": "python3",
      "display_name": "Python 3"
    },
    "language_info": {
      "name": "python"
    }
  },
  "cells": [
    {
      "cell_type": "code",
      "source": [
        "prompt = \"How old are you?\"\n",
        "prompt += \"\\nEnter 'stop' when you are finished. \"\n",
        "\n",
        "while True:\n",
        "    age = input(prompt)\n",
        "    if age == 'stop':\n",
        "        break\n",
        "    age = int(age)\n",
        "\n",
        "    if age < 10:\n",
        "        print(\"  You get in free!\")\n",
        "    elif age < 20:\n",
        "        print(\"  Your ticket is $20.\")\n",
        "    else:\n",
        "        print(\"  Your ticket is $30.\")"
      ],
      "metadata": {
        "colab": {
          "base_uri": "https://localhost:8080/"
        },
        "id": "d9QoGjtaI9jp",
        "outputId": "67db5961-a61d-4fb3-a677-b67629c8fe98"
      },
      "execution_count": 11,
      "outputs": [
        {
          "name": "stdout",
          "output_type": "stream",
          "text": [
            "How old are you?\n",
            "Enter 'stop' when you are finished. 5\n",
            "  You get in free!\n",
            "How old are you?\n",
            "Enter 'stop' when you are finished. 15\n",
            "  Your ticket is $20.\n",
            "How old are you?\n",
            "Enter 'stop' when you are finished. 25\n",
            "  Your ticket is $30.\n",
            "How old are you?\n",
            "Enter 'stop' when you are finished. stop\n"
          ]
        }
      ]
    }
  ]
}