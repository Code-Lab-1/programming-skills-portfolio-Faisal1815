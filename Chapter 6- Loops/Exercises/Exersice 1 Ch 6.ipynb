{
  "nbformat": 4,
  "nbformat_minor": 0,
  "metadata": {
    "colab": {
      "provenance": []
    },
    "kernelspec": {
      "name": "python3",
      "display_name": "Python 3"
    },
    "language_info": {
      "name": "python"
    }
  },
  "cells": [
    {
      "cell_type": "code",
      "execution_count": 1,
      "metadata": {
        "colab": {
          "base_uri": "https://localhost:8080/"
        },
        "id": "3pXzZiqV_oUz",
        "outputId": "7a2a3ae7-5656-4a33-a0df-8abb44e1a2b5"
      },
      "outputs": [
        {
          "name": "stdout",
          "output_type": "stream",
          "text": [
            "\n",
            "What topping would you like on your pizza?\n",
            "Enter 'quit' when you are finished: margherita\n",
            "  I'll add margherita to your pizza.\n",
            "\n",
            "What topping would you like on your pizza?\n",
            "Enter 'quit' when you are finished: mashroom\n",
            "  I'll add mashroom to your pizza.\n",
            "\n",
            "What topping would you like on your pizza?\n",
            "Enter 'quit' when you are finished: meat\n",
            "  I'll add meat to your pizza.\n",
            "\n",
            "What topping would you like on your pizza?\n",
            "Enter 'quit' when you are finished: olives\n",
            "  I'll add olives to your pizza.\n",
            "\n",
            "What topping would you like on your pizza?\n",
            "Enter 'quit' when you are finished: quit\n"
          ]
        }
      ],
      "source": [
        "prompt = \"\\nWhat topping would you like on your pizza?\"\n",
        "prompt += \"\\nEnter 'quit' when you are finished: \"\n",
        "\n",
        "while True:\n",
        "    topping = input(prompt)\n",
        "    if topping != 'quit':\n",
        "        print(\"  I'll add \" + topping + \" to your pizza.\")\n",
        "    else:\n",
        "        break"
      ]
    }
  ]
}