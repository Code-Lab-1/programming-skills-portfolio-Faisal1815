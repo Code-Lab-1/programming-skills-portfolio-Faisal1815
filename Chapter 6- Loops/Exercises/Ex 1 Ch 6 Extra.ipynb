{
  "nbformat": 4,
  "nbformat_minor": 0,
  "metadata": {
    "colab": {
      "provenance": []
    },
    "kernelspec": {
      "name": "python3",
      "display_name": "Python 3"
    },
    "language_info": {
      "name": "python"
    }
  },
  "cells": [
    {
      "cell_type": "code",
      "source": [
        "prompt = \"\\nWhat topping would you like on your sandwich?\"\n",
        "prompt += \"\\nEnter 'stop' when you are finished: \"\n",
        "\n",
        "while True:\n",
        "    topping = input(prompt)\n",
        "    if topping != 'stop':\n",
        "        print(\"  I'll add \" + topping + \" to your sandwich.\")\n",
        "    else:\n",
        "        break"
      ],
      "metadata": {
        "colab": {
          "base_uri": "https://localhost:8080/"
        },
        "id": "jJ4IO3LHHYnC",
        "outputId": "071cd722-3e43-45c3-a907-2278d10fb5c1"
      },
      "execution_count": 8,
      "outputs": [
        {
          "name": "stdout",
          "output_type": "stream",
          "text": [
            "\n",
            "What topping would you like on your sandwich?\n",
            "Enter 'stop' when you are finished: cheese\n",
            "  I'll add cheese to your sandwich.\n",
            "\n",
            "What topping would you like on your sandwich?\n",
            "Enter 'stop' when you are finished: tomato\n",
            "  I'll add tomato to your sandwich.\n",
            "\n",
            "What topping would you like on your sandwich?\n",
            "Enter 'stop' when you are finished: chicken\n",
            "  I'll add chicken to your sandwich.\n",
            "\n",
            "What topping would you like on your sandwich?\n",
            "Enter 'stop' when you are finished: stop\n"
          ]
        }
      ]
    }
  ]
}