{
  "nbformat": 4,
  "nbformat_minor": 0,
  "metadata": {
    "colab": {
      "provenance": []
    },
    "kernelspec": {
      "name": "python3",
      "display_name": "Python 3"
    },
    "language_info": {
      "name": "python"
    }
  },
  "cells": [
    {
      "cell_type": "code",
      "execution_count": 2,
      "metadata": {
        "colab": {
          "base_uri": "https://localhost:8080/"
        },
        "id": "3pXzZiqV_oUz",
        "outputId": "34b70ec8-f81a-409e-e565-b8948616202b"
      },
      "outputs": [
        {
          "name": "stdout",
          "output_type": "stream",
          "text": [
            "How old are you?\n",
            "Enter 'quit' when you are finished. 2\n",
            "  You get in free!\n",
            "How old are you?\n",
            "Enter 'quit' when you are finished. 5\n",
            "  Your ticket is $10.\n",
            "How old are you?\n",
            "Enter 'quit' when you are finished. 12\n",
            "  Your ticket is $10.\n",
            "How old are you?\n",
            "Enter 'quit' when you are finished. 20\n",
            "  Your ticket is $15.\n",
            "How old are you?\n",
            "Enter 'quit' when you are finished. 50\n",
            "  Your ticket is $15.\n",
            "How old are you?\n",
            "Enter 'quit' when you are finished. quit\n"
          ]
        }
      ],
      "source": [
        "prompt = \"How old are you?\"\n",
        "prompt += \"\\nEnter 'quit' when you are finished. \"\n",
        "\n",
        "while True:\n",
        "    age = input(prompt)\n",
        "    if age == 'quit':\n",
        "        break\n",
        "    age = int(age)\n",
        "\n",
        "    if age < 3:\n",
        "        print(\"  You get in free!\")\n",
        "    elif age < 13:\n",
        "        print(\"  Your ticket is $10.\")\n",
        "    else:\n",
        "        print(\"  Your ticket is $15.\")"
      ]
    }
  ]
}