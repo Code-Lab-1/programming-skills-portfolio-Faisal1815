{
  "nbformat": 4,
  "nbformat_minor": 0,
  "metadata": {
    "colab": {
      "provenance": []
    },
    "kernelspec": {
      "name": "python3",
      "display_name": "Python 3"
    },
    "language_info": {
      "name": "python"
    }
  },
  "cells": [
    {
      "cell_type": "code",
      "source": [
        "while True:\n",
        "    age = input(\"How old are you? \")\n",
        "    \n",
        "    age = int(age)\n",
        "    if age < 10:\n",
        "        print(\"Your ticket is free\")\n",
        "    elif age < 20:\n",
        "        print(\"Your ticket is $20\") \n",
        "    else:\n",
        "        print(\"Your ticket is $302\")"
      ],
      "metadata": {
        "colab": {
          "base_uri": "https://localhost:8080/"
        },
        "id": "d9QoGjtaI9jp",
        "outputId": "19b84a2f-510f-4eb7-f1d2-c9ad517ac2b0"
      },
      "execution_count": null,
      "outputs": [
        {
          "output_type": "stream",
          "name": "stdout",
          "text": [
            "How old are you? 5\n",
            "Your ticket is free\n",
            "How old are you? 15\n",
            "Your ticket is $20\n",
            "How old are you? 25\n",
            "Your ticket is $30\n",
            "How old are you? 30\n",
            "Your ticket is $30\n",
            "How old are you? 40\n",
            "Your ticket is $30\n"
          ]
        }
      ]
    }
  ]
}