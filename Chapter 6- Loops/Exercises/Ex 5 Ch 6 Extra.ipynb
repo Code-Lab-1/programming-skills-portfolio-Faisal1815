{
  "nbformat": 4,
  "nbformat_minor": 0,
  "metadata": {
    "colab": {
      "provenance": []
    },
    "kernelspec": {
      "name": "python3",
      "display_name": "Python 3"
    },
    "language_info": {
      "name": "python"
    }
  },
  "cells": [
    {
      "cell_type": "code",
      "source": [
        "sandwich_orders = ['chicken', 'meat', 'hotdog', 'burger', 'cheese', 'yoghurt']\n",
        "finished_sandwiches = []\n",
        "\n",
        "print(\"I'm sorry, we're all out of pastrami today.\")\n",
        "while 'pastrami' in sandwich_orders:\n",
        "    sandwich_orders.remove('pastrami')\n",
        "\n",
        "print(\"\\n\")\n",
        "while sandwich_orders:\n",
        "    current_sandwich = sandwich_orders.pop()\n",
        "    print(\"I'm working on your \" + current_sandwich + \" sandwich.\")\n",
        "    finished_sandwiches.append(current_sandwich)\n",
        "\n",
        "print(\"\\n\")\n",
        "for sandwich in finished_sandwiches:\n",
        "    print(\"I made a \" + sandwich + \" sandwich.\")"
      ],
      "metadata": {
        "colab": {
          "base_uri": "https://localhost:8080/"
        },
        "id": "0mOK3A8dLvVD",
        "outputId": "a9fc98b1-29d6-4add-ea91-3ac227997adb"
      },
      "execution_count": 14,
      "outputs": [
        {
          "output_type": "stream",
          "name": "stdout",
          "text": [
            "I'm sorry, we're all out of pastrami today.\n",
            "\n",
            "\n",
            "I'm working on your yoghurt sandwich.\n",
            "I'm working on your cheese sandwich.\n",
            "I'm working on your burger sandwich.\n",
            "I'm working on your hotdog sandwich.\n",
            "I'm working on your meat sandwich.\n",
            "I'm working on your chicken sandwich.\n",
            "\n",
            "\n",
            "I made a yoghurt sandwich.\n",
            "I made a cheese sandwich.\n",
            "I made a burger sandwich.\n",
            "I made a hotdog sandwich.\n",
            "I made a meat sandwich.\n",
            "I made a chicken sandwich.\n"
          ]
        }
      ]
    }
  ]
}