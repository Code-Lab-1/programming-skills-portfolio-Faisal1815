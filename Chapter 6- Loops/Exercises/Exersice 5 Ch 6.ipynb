{
  "nbformat": 4,
  "nbformat_minor": 0,
  "metadata": {
    "colab": {
      "provenance": []
    },
    "kernelspec": {
      "name": "python3",
      "display_name": "Python 3"
    },
    "language_info": {
      "name": "python"
    }
  },
  "cells": [
    {
      "cell_type": "code",
      "execution_count": null,
      "metadata": {
        "id": "3pXzZiqV_oUz"
      },
      "outputs": [],
      "source": [
        "sandwich_orders = ['toasted cheese', 'chicken salad', 'smoked turkey', 'grilled chicken']\n",
        "finished_sandwiches = []\n",
        "\n",
        "while sandwich_orders:\n",
        "    current_sandwich = sandwich_orders.pop()\n",
        "    print(\"I'm working on your \" + current_sandwich + \" sandwich.\")\n",
        "    finished_sandwiches.append(current_sandwich)\n",
        "\n",
        "print(\"\\n\")\n",
        "for sandwich in finished_sandwiches:\n",
        "    print(\"I made a \" + sandwich + \" sandwich.\")"
      ]
    },
    {
      "cell_type": "code",
      "source": [
        "sandwich_orders = [\n",
        "    'pastrami', 'toasted cheese', 'smoked turkey', 'pastrami',\n",
        "    'chicken salad', 'grilled chicken', 'pastrami']\n",
        "finished_sandwiches = []\n",
        "\n",
        "print(\"I'm sorry, we're all out of pastrami today.\")\n",
        "while 'pastrami' in sandwich_orders:\n",
        "    sandwich_orders.remove('pastrami')\n",
        "\n",
        "print(\"\\n\")\n",
        "while sandwich_orders:\n",
        "    current_sandwich = sandwich_orders.pop()\n",
        "    print(\"I'm working on your \" + current_sandwich + \" sandwich.\")\n",
        "    finished_sandwiches.append(current_sandwich)\n",
        "\n",
        "print(\"\\n\")\n",
        "for sandwich in finished_sandwiches:\n",
        "    print(\"I made a \" + sandwich + \" sandwich.\")"
      ],
      "metadata": {
        "colab": {
          "base_uri": "https://localhost:8080/"
        },
        "id": "n3IblhaCFpmg",
        "outputId": "60c4786e-1c6b-44d0-8deb-7cfbbca96d26"
      },
      "execution_count": 6,
      "outputs": [
        {
          "output_type": "stream",
          "name": "stdout",
          "text": [
            "I'm sorry, we're all out of pastrami today.\n",
            "\n",
            "\n",
            "I'm working on your grilled chicken sandwich.\n",
            "I'm working on your chicken salad sandwich.\n",
            "I'm working on your smoked turkey sandwich.\n",
            "I'm working on your toasted cheese sandwich.\n",
            "\n",
            "\n",
            "I made a grilled chicken sandwich.\n",
            "I made a chicken salad sandwich.\n",
            "I made a smoked turkey sandwich.\n",
            "I made a toasted cheese sandwich.\n"
          ]
        }
      ]
    }
  ]
}