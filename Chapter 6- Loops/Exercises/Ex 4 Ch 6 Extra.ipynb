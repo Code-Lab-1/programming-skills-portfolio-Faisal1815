{
  "nbformat": 4,
  "nbformat_minor": 0,
  "metadata": {
    "colab": {
      "provenance": []
    },
    "kernelspec": {
      "name": "python3",
      "display_name": "Python 3"
    },
    "language_info": {
      "name": "python"
    }
  },
  "cells": [
    {
      "cell_type": "code",
      "source": [
        "sandwich_orders = ['chicken', 'meat', 'hotdog', 'burger']\n",
        "finished_sandwiches = []\n",
        "\n",
        "while sandwich_orders:\n",
        "    current_sandwich = sandwich_orders.pop()\n",
        "    print(\"I'm working on your \" + current_sandwich + \" sandwich.\")\n",
        "    finished_sandwiches.append(current_sandwich)\n",
        "\n",
        "print(\"\\n\")\n",
        "for sandwich in finished_sandwiches:\n",
        "    print(\"I made a \" + sandwich + \" sandwich.\")"
      ],
      "metadata": {
        "colab": {
          "base_uri": "https://localhost:8080/"
        },
        "id": "ptsa61MZLVGG",
        "outputId": "892fc07c-1733-41ec-d6fc-dbb9f0b8961f"
      },
      "execution_count": 13,
      "outputs": [
        {
          "output_type": "stream",
          "name": "stdout",
          "text": [
            "I'm working on your burger sandwich.\n",
            "I'm working on your hotdog sandwich.\n",
            "I'm working on your meat sandwich.\n",
            "I'm working on your chicken sandwich.\n",
            "\n",
            "\n",
            "I made a burger sandwich.\n",
            "I made a hotdog sandwich.\n",
            "I made a meat sandwich.\n",
            "I made a chicken sandwich.\n"
          ]
        }
      ]
    }
  ]
}