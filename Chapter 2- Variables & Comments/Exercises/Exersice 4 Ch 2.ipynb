{
  "nbformat": 4,
  "nbformat_minor": 0,
  "metadata": {
    "colab": {
      "provenance": []
    },
    "kernelspec": {
      "name": "python3",
      "display_name": "Python 3"
    },
    "language_info": {
      "name": "python"
    }
  },
  "cells": [
    {
      "cell_type": "code",
      "execution_count": 6,
      "metadata": {
        "colab": {
          "base_uri": "https://localhost:8080/"
        },
        "id": "pe_s5kaF5hT3",
        "outputId": "052cde17-2877-40b3-8322-039870c55afd"
      },
      "outputs": [
        {
          "output_type": "stream",
          "name": "stdout",
          "text": [
            "my favorite numer is 55\n"
          ]
        }
      ],
      "source": [
        "num=55\n",
        "print(\"my favorite numer is\", num)\n"
      ]
    }
  ]
}