{
  "nbformat": 4,
  "nbformat_minor": 0,
  "metadata": {
    "colab": {
      "provenance": []
    },
    "kernelspec": {
      "name": "python3",
      "display_name": "Python 3"
    },
    "language_info": {
      "name": "python"
    }
  },
  "cells": [
    {
      "cell_type": "code",
      "execution_count": 4,
      "metadata": {
        "colab": {
          "base_uri": "https://localhost:8080/"
        },
        "id": "pe_s5kaF5hT3",
        "outputId": "f36d3bd3-b3b1-4e68-bd27-732e60beb40f"
      },
      "outputs": [
        {
          "output_type": "stream",
          "name": "stdout",
          "text": [
            " “If you want a happy life, set a goal, not people or things.” - Albert Einstein\n"
          ]
        }
      ],
      "source": [
        "print(\" “If you want a happy life, set a goal, not people or things.” - Albert Einstein\")"
      ]
    }
  ]
}