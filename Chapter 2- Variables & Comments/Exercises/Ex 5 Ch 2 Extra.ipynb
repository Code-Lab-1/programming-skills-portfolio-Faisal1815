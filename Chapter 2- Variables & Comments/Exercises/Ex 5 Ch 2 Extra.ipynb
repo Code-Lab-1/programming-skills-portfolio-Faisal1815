{
  "nbformat": 4,
  "nbformat_minor": 0,
  "metadata": {
    "colab": {
      "provenance": []
    },
    "kernelspec": {
      "name": "python3",
      "display_name": "Python 3"
    },
    "language_info": {
      "name": "python"
    }
  },
  "cells": [
    {
      "cell_type": "code",
      "execution_count": 10,
      "metadata": {
        "colab": {
          "base_uri": "https://localhost:8080/"
        },
        "id": "Lr9-3XVDhoGu",
        "outputId": "5ff82197-467c-46de-b1e9-822ef3acfcc7"
      },
      "outputs": [
        {
          "output_type": "stream",
          "name": "stdout",
          "text": [
            "no of usb she buys= 3\n",
            "pounds left= 0\n"
          ]
        }
      ],
      "source": [
        "print(\"no of usb she buys=\",30//10)\n",
        "print(\"pounds left=\",20%10)"
      ]
    }
  ]
}