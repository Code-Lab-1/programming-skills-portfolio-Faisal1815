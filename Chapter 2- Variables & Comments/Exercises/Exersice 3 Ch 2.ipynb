{
  "nbformat": 4,
  "nbformat_minor": 0,
  "metadata": {
    "colab": {
      "provenance": []
    },
    "kernelspec": {
      "name": "python3",
      "display_name": "Python 3"
    },
    "language_info": {
      "name": "python"
    }
  },
  "cells": [
    {
      "cell_type": "code",
      "execution_count": 5,
      "metadata": {
        "colab": {
          "base_uri": "https://localhost:8080/"
        },
        "id": "pe_s5kaF5hT3",
        "outputId": "42597058-0009-43c3-fa7f-e2674f6d2418"
      },
      "outputs": [
        {
          "output_type": "stream",
          "name": "stdout",
          "text": [
            "\tfaisal  \n",
            " safaf\n",
            "faisal  \n",
            " safaf\n",
            "\tfaisal  \n",
            " safaf\n"
          ]
        }
      ],
      "source": [
        "name= \"\\tfaisal  \\n safaf\"\n",
        "print(name)\n",
        "print(name.strip())\n",
        "print(name.rstrip())"
      ]
    }
  ]
}