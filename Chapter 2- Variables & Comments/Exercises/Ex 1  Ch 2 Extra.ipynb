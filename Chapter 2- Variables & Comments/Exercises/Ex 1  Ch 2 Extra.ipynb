{
  "nbformat": 4,
  "nbformat_minor": 0,
  "metadata": {
    "colab": {
      "provenance": []
    },
    "kernelspec": {
      "name": "python3",
      "display_name": "Python 3"
    },
    "language_info": {
      "name": "python"
    }
  },
  "cells": [
    {
      "cell_type": "code",
      "execution_count": 2,
      "metadata": {
        "colab": {
          "base_uri": "https://localhost:8080/"
        },
        "id": "Lr9-3XVDhoGu",
        "outputId": "c992d150-2c56-4086-c844-fae142a7e763"
      },
      "outputs": [
        {
          "output_type": "stream",
          "name": "stdout",
          "text": [
            "Where you from?\n"
          ]
        }
      ],
      "source": [
        "A= \"Where \"\n",
        "B= \"you \"\n",
        "C= \"from?\"\n",
        "qustion=A+B+C\n",
        "print(qustion)"
      ]
    }
  ]
}