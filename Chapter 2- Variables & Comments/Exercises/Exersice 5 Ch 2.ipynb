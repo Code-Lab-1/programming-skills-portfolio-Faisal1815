{
  "nbformat": 4,
  "nbformat_minor": 0,
  "metadata": {
    "colab": {
      "provenance": []
    },
    "kernelspec": {
      "name": "python3",
      "display_name": "Python 3"
    },
    "language_info": {
      "name": "python"
    }
  },
  "cells": [
    {
      "cell_type": "code",
      "execution_count": 7,
      "metadata": {
        "colab": {
          "base_uri": "https://localhost:8080/"
        },
        "id": "pe_s5kaF5hT3",
        "outputId": "b8f50a1c-9079-450b-deeb-561b073597b9"
      },
      "outputs": [
        {
          "output_type": "stream",
          "name": "stdout",
          "text": [
            "no of usb she buys= 8\n",
            "pounds left= 0\n"
          ]
        }
      ],
      "source": [
        "print(\"no of usb she buys=\",40//5)\n",
        "print(\"pounds left=\",40%5)\n"
      ]
    }
  ]
}