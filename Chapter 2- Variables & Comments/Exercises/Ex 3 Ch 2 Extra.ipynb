{
  "nbformat": 4,
  "nbformat_minor": 0,
  "metadata": {
    "colab": {
      "provenance": []
    },
    "kernelspec": {
      "name": "python3",
      "display_name": "Python 3"
    },
    "language_info": {
      "name": "python"
    }
  },
  "cells": [
    {
      "cell_type": "code",
      "execution_count": 4,
      "metadata": {
        "colab": {
          "base_uri": "https://localhost:8080/"
        },
        "id": "Lr9-3XVDhoGu",
        "outputId": "45dc75b1-4f1e-4860-9e84-2ee663440eea"
      },
      "outputs": [
        {
          "output_type": "stream",
          "name": "stdout",
          "text": [
            "\tOmer  \n",
            "Hawa \n",
            "Omer  \n",
            "Hawa\n",
            "\tOmer  \n",
            "Hawa\n"
          ]
        }
      ],
      "source": [
        "name= \"\\tOmer  \\nHawa \"\n",
        "print(name)\n",
        "print(name.strip())\n",
        "print(name.rstrip())"
      ]
    }
  ]
}