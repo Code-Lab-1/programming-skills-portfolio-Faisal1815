{
  "nbformat": 4,
  "nbformat_minor": 0,
  "metadata": {
    "colab": {
      "provenance": []
    },
    "kernelspec": {
      "name": "python3",
      "display_name": "Python 3"
    },
    "language_info": {
      "name": "python"
    }
  },
  "cells": [
    {
      "cell_type": "code",
      "execution_count": 3,
      "metadata": {
        "colab": {
          "base_uri": "https://localhost:8080/"
        },
        "id": "Lr9-3XVDhoGu",
        "outputId": "e9051921-3bdf-4393-f5f6-959455823725"
      },
      "outputs": [
        {
          "output_type": "stream",
          "name": "stdout",
          "text": [
            " “Don’t live the same year 75 times and call it a life.” - Robin Sharma\n"
          ]
        }
      ],
      "source": [
        "print(\" “Don’t live the same year 75 times and call it a life.” - Robin Sharma\")"
      ]
    }
  ]
}