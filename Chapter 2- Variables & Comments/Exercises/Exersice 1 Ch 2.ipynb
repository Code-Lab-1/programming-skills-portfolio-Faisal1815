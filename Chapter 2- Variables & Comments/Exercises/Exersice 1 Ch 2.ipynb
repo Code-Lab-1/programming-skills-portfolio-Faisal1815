{
  "nbformat": 4,
  "nbformat_minor": 0,
  "metadata": {
    "colab": {
      "provenance": []
    },
    "kernelspec": {
      "name": "python3",
      "display_name": "Python 3"
    },
    "language_info": {
      "name": "python"
    }
  },
  "cells": [
    {
      "cell_type": "code",
      "execution_count": 3,
      "metadata": {
        "colab": {
          "base_uri": "https://localhost:8080/"
        },
        "id": "pe_s5kaF5hT3",
        "outputId": "c01690f3-a141-4c08-d4e5-9f98f4481de4"
      },
      "outputs": [
        {
          "output_type": "stream",
          "name": "stdout",
          "text": [
            "How you doing?\n"
          ]
        }
      ],
      "source": [
        "A= \"How \"\n",
        "B= \"you \"\n",
        "C= \"doing?\"\n",
        "qustion=A+B+C\n",
        "print(qustion)"
      ]
    }
  ]
}