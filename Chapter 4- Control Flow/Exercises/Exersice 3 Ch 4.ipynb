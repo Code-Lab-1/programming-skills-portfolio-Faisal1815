{
  "nbformat": 4,
  "nbformat_minor": 0,
  "metadata": {
    "colab": {
      "provenance": []
    },
    "kernelspec": {
      "name": "python3",
      "display_name": "Python 3"
    },
    "language_info": {
      "name": "python"
    }
  },
  "cells": [
    {
      "cell_type": "code",
      "execution_count": null,
      "metadata": {
        "colab": {
          "base_uri": "https://localhost:8080/"
        },
        "id": "w1Sg46Mi4Get",
        "outputId": "a4e5f3d8-5e4c-4b03-d5dc-b6ca0bf4ba25"
      },
      "outputs": [
        {
          "output_type": "stream",
          "name": "stdout",
          "text": [
            "You just earned 5 points!\n"
          ]
        }
      ],
      "source": [
        "alien_color = 'green'\n",
        "\n",
        "if alien_color == 'green':\n",
        "    print(\"You just earned 5 points!\")\n",
        "else:\n",
        "    print(\"You just earned 10 points!\")"
      ]
    },
    {
      "cell_type": "code",
      "source": [
        "alien_color = ' red '\n",
        "\n",
        "if alien_color == ' green ':\n",
        "    print(\"You just earned 5 points!\")\n",
        "elif alien_color == ' yellow ':\n",
        "    print(\"You just earned 10 points!\")\n",
        "else:\n",
        "    print(\"You just earned 15 points!\")"
      ],
      "metadata": {
        "id": "luHC0JYy6WHO",
        "colab": {
          "base_uri": "https://localhost:8080/"
        },
        "outputId": "124a2997-9dd7-4ad0-80ff-5c67ce57395d"
      },
      "execution_count": 7,
      "outputs": [
        {
          "output_type": "stream",
          "name": "stdout",
          "text": [
            "You just earned 15 points!\n"
          ]
        }
      ]
    },
    {
      "cell_type": "code",
      "source": [],
      "metadata": {
        "id": "-oojHdJH5iZ7"
      },
      "execution_count": null,
      "outputs": []
    }
  ]
}