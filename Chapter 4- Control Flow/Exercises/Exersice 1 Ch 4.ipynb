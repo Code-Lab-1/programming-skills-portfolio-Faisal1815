{
  "nbformat": 4,
  "nbformat_minor": 0,
  "metadata": {
    "colab": {
      "provenance": []
    },
    "kernelspec": {
      "name": "python3",
      "display_name": "Python 3"
    },
    "language_info": {
      "name": "python"
    }
  },
  "cells": [
    {
      "cell_type": "code",
      "execution_count": 3,
      "metadata": {
        "colab": {
          "base_uri": "https://localhost:8080/"
        },
        "id": "w1Sg46Mi4Get",
        "outputId": "3ea3b17b-bfaf-46cd-f2f0-3dcbb11086a9"
      },
      "outputs": [
        {
          "output_type": "stream",
          "name": "stdout",
          "text": [
            "You just earned 5 points!\n"
          ]
        }
      ],
      "source": [
        "alien_color = 'red'\n",
        "\n",
        "if alien_color == 'red':\n",
        "    print(\"You just earned 5 points!\")"
      ]
    },
    {
      "cell_type": "code",
      "source": [
        "alien_color = 'Yellow'\n",
        "\n",
        "if alien_color == 'red':\n",
        "    print(\"You just earned 5 points!\")"
      ],
      "metadata": {
        "id": "-oojHdJH5iZ7"
      },
      "execution_count": 4,
      "outputs": []
    }
  ]
}