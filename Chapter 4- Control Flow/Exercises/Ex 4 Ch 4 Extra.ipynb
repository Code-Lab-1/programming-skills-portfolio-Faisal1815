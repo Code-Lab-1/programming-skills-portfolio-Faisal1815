{
  "nbformat": 4,
  "nbformat_minor": 0,
  "metadata": {
    "colab": {
      "provenance": []
    },
    "kernelspec": {
      "name": "python3",
      "display_name": "Python 3"
    },
    "language_info": {
      "name": "python"
    }
  },
  "cells": [
    {
      "cell_type": "code",
      "source": [
        "age = 25\n",
        "\n",
        "if age < 5:\n",
        "    print(\"You are a baby !\")\n",
        "elif age < 4:\n",
        "    print(\"You are a toddler !\")\n",
        "elif age < 13:\n",
        "    print(\"You are a kid !\")\n",
        "elif age < 20:\n",
        "    print(\"You are a teenager !\")\n",
        "elif age < 65:\n",
        "    print(\"You are an adult !\")\n",
        "else:\n",
        "    print(\"You are an elder !\")"
      ],
      "metadata": {
        "colab": {
          "base_uri": "https://localhost:8080/"
        },
        "id": "df5flGAhDZAT",
        "outputId": "ccf89251-d2be-419d-861b-79dd3598dbc8"
      },
      "execution_count": 8,
      "outputs": [
        {
          "output_type": "stream",
          "name": "stdout",
          "text": [
            "You are an adult !\n"
          ]
        }
      ]
    }
  ]
}