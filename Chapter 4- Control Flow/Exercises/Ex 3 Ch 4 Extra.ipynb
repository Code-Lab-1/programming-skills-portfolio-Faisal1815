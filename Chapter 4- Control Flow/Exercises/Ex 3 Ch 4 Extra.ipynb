{
  "nbformat": 4,
  "nbformat_minor": 0,
  "metadata": {
    "colab": {
      "provenance": []
    },
    "kernelspec": {
      "name": "python3",
      "display_name": "Python 3"
    },
    "language_info": {
      "name": "python"
    }
  },
  "cells": [
    {
      "cell_type": "code",
      "source": [
        "alien_color = 'white'\n",
        "\n",
        "if alien_color == 'white':\n",
        "    print(\"You just earned 30 points!\")\n",
        "else:\n",
        "    print(\"You just earned 5 points!\")"
      ],
      "metadata": {
        "colab": {
          "base_uri": "https://localhost:8080/"
        },
        "id": "-6Ga_v2qCzQc",
        "outputId": "b2c5da60-e780-4a32-cc2e-c9736ac8bed3"
      },
      "execution_count": 7,
      "outputs": [
        {
          "output_type": "stream",
          "name": "stdout",
          "text": [
            "You just earned 30 points!\n"
          ]
        }
      ]
    },
    {
      "cell_type": "code",
      "source": [
        "alien_color = ' black '\n",
        "\n",
        "if alien_color == ' purple ':\n",
        "    print(\"You just earned 20 points!\")\n",
        "elif alien_color == ' yellow ':\n",
        "    print(\"You just earned 40 points!\")\n",
        "else:\n",
        "    print(\"You just earned 60 points!\")"
      ],
      "metadata": {
        "colab": {
          "base_uri": "https://localhost:8080/"
        },
        "id": "xJ27MDXiCzTu",
        "outputId": "6c1ada1a-abcf-47db-961f-05893135f866"
      },
      "execution_count": 6,
      "outputs": [
        {
          "output_type": "stream",
          "name": "stdout",
          "text": [
            "You just earned 60 points!\n"
          ]
        }
      ]
    }
  ]
}