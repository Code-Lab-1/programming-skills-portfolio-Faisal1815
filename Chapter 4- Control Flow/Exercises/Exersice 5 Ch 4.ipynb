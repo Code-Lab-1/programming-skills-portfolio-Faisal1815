{
  "nbformat": 4,
  "nbformat_minor": 0,
  "metadata": {
    "colab": {
      "provenance": []
    },
    "kernelspec": {
      "name": "python3",
      "display_name": "Python 3"
    },
    "language_info": {
      "name": "python"
    }
  },
  "cells": [
    {
      "cell_type": "code",
      "execution_count": null,
      "metadata": {
        "colab": {
          "base_uri": "https://localhost:8080/"
        },
        "id": "w1Sg46Mi4Get",
        "outputId": "a4e5f3d8-5e4c-4b03-d5dc-b6ca0bf4ba25"
      },
      "outputs": [
        {
          "output_type": "stream",
          "name": "stdout",
          "text": [
            "You just earned 5 points!\n"
          ]
        }
      ],
      "source": [
        "alien_color = 'green'\n",
        "\n",
        "if alien_color == 'green':\n",
        "    print(\"You just earned 5 points!\")\n",
        "else:\n",
        "    print(\"You just earned 10 points!\")"
      ]
    },
    {
      "cell_type": "code",
      "source": [
        "favorite_fruits = ['oranges', 'bananas', 'apples']\n",
        "\n",
        "if 'oranges' in favorite_fruits:\n",
        "    print(\"You really like oranges!\")\n",
        "if 'grapes' in favorite_fruits:\n",
        "    print(\"You really like grapes!\")\n",
        "if 'watermelons' in favorite_fruits:\n",
        "    print(\"You really like watermelons!\")\n",
        "if 'apples' in favorite_fruits:\n",
        "    print(\"You really like apples!\")\n",
        "if 'pears' in favorite_fruits:\n",
        "    print(\"You really like peaches pears!\")"
      ],
      "metadata": {
        "id": "luHC0JYy6WHO",
        "colab": {
          "base_uri": "https://localhost:8080/"
        },
        "outputId": "e5425c4c-cca4-49f5-88b2-b7750f890948"
      },
      "execution_count": 11,
      "outputs": [
        {
          "output_type": "stream",
          "name": "stdout",
          "text": [
            "You really like oranges!\n",
            "You really like apples!\n"
          ]
        }
      ]
    },
    {
      "cell_type": "code",
      "source": [],
      "metadata": {
        "id": "-oojHdJH5iZ7"
      },
      "execution_count": null,
      "outputs": []
    }
  ]
}