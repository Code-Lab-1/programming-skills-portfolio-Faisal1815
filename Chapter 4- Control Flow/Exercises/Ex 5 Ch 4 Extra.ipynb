{
  "nbformat": 4,
  "nbformat_minor": 0,
  "metadata": {
    "colab": {
      "provenance": []
    },
    "kernelspec": {
      "name": "python3",
      "display_name": "Python 3"
    },
    "language_info": {
      "name": "python"
    }
  },
  "cells": [
    {
      "cell_type": "code",
      "source": [
        "favorite_fruits = ['pears', 'watermelons', 'grapes']\n",
        "\n",
        "if 'oranges' in favorite_fruits:\n",
        "    print(\"You like oranges!\")\n",
        "if 'grapes' in favorite_fruits:\n",
        "    print(\"You like grapes!\")\n",
        "if 'watermelons' in favorite_fruits:\n",
        "    print(\"You like watermelons!\")\n",
        "if 'apples' in favorite_fruits:\n",
        "    print(\"You like apples!\")\n",
        "if 'pears' in favorite_fruits:\n",
        "    print(\"You like peaches pears!\")"
      ],
      "metadata": {
        "colab": {
          "base_uri": "https://localhost:8080/"
        },
        "id": "Y0DM0uPiDwBe",
        "outputId": "5ef204c8-8246-45de-f1a4-7fabfe256b95"
      },
      "execution_count": 10,
      "outputs": [
        {
          "output_type": "stream",
          "name": "stdout",
          "text": [
            "You like grapes!\n",
            "You like watermelons!\n",
            "You like peaches pears!\n"
          ]
        }
      ]
    }
  ]
}