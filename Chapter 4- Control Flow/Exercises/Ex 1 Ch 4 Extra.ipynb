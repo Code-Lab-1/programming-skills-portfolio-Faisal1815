{
  "nbformat": 4,
  "nbformat_minor": 0,
  "metadata": {
    "colab": {
      "provenance": []
    },
    "kernelspec": {
      "name": "python3",
      "display_name": "Python 3"
    },
    "language_info": {
      "name": "python"
    }
  },
  "cells": [
    {
      "cell_type": "code",
      "execution_count": 1,
      "metadata": {
        "colab": {
          "base_uri": "https://localhost:8080/"
        },
        "id": "6S2vDt3JBKGr",
        "outputId": "f6e1dc48-d517-45dc-e988-eba1c5c517c4"
      },
      "outputs": [
        {
          "output_type": "stream",
          "name": "stdout",
          "text": [
            "You just earned 20 points!\n"
          ]
        }
      ],
      "source": [
        "alien_color = 'blue'\n",
        "\n",
        "if alien_color == 'blue':\n",
        "    print(\"You just earned 20 points!\")"
      ]
    },
    {
      "cell_type": "code",
      "source": [
        "alien_color = 'green'\n",
        "\n",
        "if alien_color == 'grey':\n",
        "    print(\"You just earned 30 points!\")"
      ],
      "metadata": {
        "id": "3vIariuxBPRC"
      },
      "execution_count": 2,
      "outputs": []
    }
  ]
}