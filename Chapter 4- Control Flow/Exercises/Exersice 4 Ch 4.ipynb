{
  "nbformat": 4,
  "nbformat_minor": 0,
  "metadata": {
    "colab": {
      "provenance": []
    },
    "kernelspec": {
      "name": "python3",
      "display_name": "Python 3"
    },
    "language_info": {
      "name": "python"
    }
  },
  "cells": [
    {
      "cell_type": "code",
      "execution_count": null,
      "metadata": {
        "colab": {
          "base_uri": "https://localhost:8080/"
        },
        "id": "w1Sg46Mi4Get",
        "outputId": "a4e5f3d8-5e4c-4b03-d5dc-b6ca0bf4ba25"
      },
      "outputs": [
        {
          "output_type": "stream",
          "name": "stdout",
          "text": [
            "You just earned 5 points!\n"
          ]
        }
      ],
      "source": [
        "alien_color = 'green'\n",
        "\n",
        "if alien_color == 'green':\n",
        "    print(\"You just earned 5 points!\")\n",
        "else:\n",
        "    print(\"You just earned 10 points!\")"
      ]
    },
    {
      "cell_type": "code",
      "source": [
        "age = 18\n",
        "\n",
        "if age < 2:\n",
        "    print(\"You are a baby !\")\n",
        "elif age < 4:\n",
        "    print(\"You are a toddler !\")\n",
        "elif age < 13:\n",
        "    print(\"You are a kid !\")\n",
        "elif age < 20:\n",
        "    print(\"You are a teenager !\")\n",
        "elif age < 65:\n",
        "    print(\"You are an adult !\")\n",
        "else:\n",
        "    print(\"You are an elder !\")"
      ],
      "metadata": {
        "id": "luHC0JYy6WHO",
        "colab": {
          "base_uri": "https://localhost:8080/"
        },
        "outputId": "b04adc87-67b9-419f-ef11-a02924e8ea79"
      },
      "execution_count": 9,
      "outputs": [
        {
          "output_type": "stream",
          "name": "stdout",
          "text": [
            "You are a teenager !\n"
          ]
        }
      ]
    },
    {
      "cell_type": "code",
      "source": [],
      "metadata": {
        "id": "-oojHdJH5iZ7"
      },
      "execution_count": null,
      "outputs": []
    }
  ]
}