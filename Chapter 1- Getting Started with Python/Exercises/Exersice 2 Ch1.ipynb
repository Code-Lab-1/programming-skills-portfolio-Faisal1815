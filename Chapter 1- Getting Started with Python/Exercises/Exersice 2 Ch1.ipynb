{
  "nbformat": 4,
  "nbformat_minor": 0,
  "metadata": {
    "colab": {
      "provenance": [],
      "collapsed_sections": []
    },
    "kernelspec": {
      "name": "python3",
      "display_name": "Python 3"
    },
    "language_info": {
      "name": "python"
    }
  },
  "cells": [
    {
      "cell_type": "code",
      "execution_count": 2,
      "metadata": {
        "colab": {
          "base_uri": "https://localhost:8080/"
        },
        "id": "-pVmpqSV0ri7",
        "outputId": "ee231811-63f4-4c40-d092-788a781cdfd6"
      },
      "outputs": [
        {
          "output_type": "stream",
          "name": "stdout",
          "text": [
            "python version\n",
            "3.7.15 (default, Oct 12 2022, 19:14:55) \n",
            "[GCC 7.5.0]\n",
            "python version_info\n",
            "sys.version_info\n"
          ]
        }
      ],
      "source": [
        "import sys\n",
        "print(\"python version\")\n",
        "print(sys.version)\n",
        "print(\"python version_info\")\n",
        "print(\"sys.version_info\")"
      ]
    }
  ]
}