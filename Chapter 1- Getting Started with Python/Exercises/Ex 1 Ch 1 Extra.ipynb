{
  "nbformat": 4,
  "nbformat_minor": 0,
  "metadata": {
    "colab": {
      "provenance": []
    },
    "kernelspec": {
      "name": "python3",
      "display_name": "Python 3"
    },
    "language_info": {
      "name": "python"
    }
  },
  "cells": [
    {
      "cell_type": "code",
      "execution_count": 1,
      "metadata": {
        "colab": {
          "base_uri": "https://localhost:8080/"
        },
        "id": "GXdqkwauRTjS",
        "outputId": "80125880-a809-4256-bd0c-46ec76a9aabd"
      },
      "outputs": [
        {
          "output_type": "stream",
          "name": "stdout",
          "text": [
            "I can be your hero baby, \n",
            "\tI can kiss a way your pain!\n",
            "\t\tI'll stand be you for ever, \n",
            "\t\tYou can take my breathe a way. \n",
            "I can be your hero baby, \n",
            "\tI can kiss a way the pain\n"
          ]
        }
      ],
      "source": [
        "print(\"I can be your hero baby, \\n\\tI can kiss a way your pain!\\n\\t\\tI'll stand be you for ever, \\n\\t\\tYou can take my breathe a way. \\nI can be your hero baby, \\n\\tI can kiss a way the pain\")"
      ]
    }
  ]
}