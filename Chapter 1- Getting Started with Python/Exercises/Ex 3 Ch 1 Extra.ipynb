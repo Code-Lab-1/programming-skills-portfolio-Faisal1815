{
  "nbformat": 4,
  "nbformat_minor": 0,
  "metadata": {
    "colab": {
      "provenance": []
    },
    "kernelspec": {
      "name": "python3",
      "display_name": "Python 3"
    },
    "language_info": {
      "name": "python"
    }
  },
  "cells": [
    {
      "cell_type": "code",
      "execution_count": 7,
      "metadata": {
        "colab": {
          "base_uri": "https://localhost:8080/"
        },
        "id": "GXdqkwauRTjS",
        "outputId": "af17446e-5aa7-48f2-ccc5-9b8537bb935e"
      },
      "outputs": [
        {
          "output_type": "stream",
          "name": "stdout",
          "text": [
            "date and time= 23/22 16:40:49\n"
          ]
        }
      ],
      "source": [
        "from datetime import datetime\n",
        "now= datetime.now()\n",
        "dt_string= now.strftime(\"%d/%y %H:%M:%S\")\n",
        "print(\"date and time=\",dt_string)"
      ]
    }
  ]
}