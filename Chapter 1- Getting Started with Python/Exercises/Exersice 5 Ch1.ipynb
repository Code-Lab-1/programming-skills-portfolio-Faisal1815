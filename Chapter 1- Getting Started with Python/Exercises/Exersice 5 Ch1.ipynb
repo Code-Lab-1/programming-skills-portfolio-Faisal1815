{
  "nbformat": 4,
  "nbformat_minor": 0,
  "metadata": {
    "colab": {
      "provenance": []
    },
    "kernelspec": {
      "name": "python3",
      "display_name": "Python 3"
    },
    "language_info": {
      "name": "python"
    }
  },
  "cells": [
    {
      "cell_type": "code",
      "execution_count": 2,
      "metadata": {
        "colab": {
          "base_uri": "https://localhost:8080/"
        },
        "id": "pe_s5kaF5hT3",
        "outputId": "1db29718-ab0d-4bb9-8253-4c1b4aeca069"
      },
      "outputs": [
        {
          "output_type": "stream",
          "name": "stdout",
          "text": [
            "input the radius of the circle: 3.50\n",
            "the area of the circle with radius 3.5 is: 471.43524757931834\n"
          ]
        }
      ],
      "source": [
        "from math import pi\n",
        "r= float(input(\"input the radius of the circle: \"))\n",
        "print(\"the area of the circle with radius \" + str(r) + \" is: \"+ str(pi * r**4))"
      ]
    }
  ]
}