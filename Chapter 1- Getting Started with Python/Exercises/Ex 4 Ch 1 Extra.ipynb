{
  "nbformat": 4,
  "nbformat_minor": 0,
  "metadata": {
    "colab": {
      "provenance": []
    },
    "kernelspec": {
      "name": "python3",
      "display_name": "Python 3"
    },
    "language_info": {
      "name": "python"
    }
  },
  "cells": [
    {
      "cell_type": "code",
      "execution_count": 8,
      "metadata": {
        "colab": {
          "base_uri": "https://localhost:8080/"
        },
        "id": "GXdqkwauRTjS",
        "outputId": "10acb87a-7268-40dd-98e4-329e50d34fa5"
      },
      "outputs": [
        {
          "output_type": "stream",
          "name": "stdout",
          "text": [
            "Salem Hamad Omer\n"
          ]
        }
      ],
      "source": [
        "A =\"Salem\"\n",
        "B = \"Hamad\"\n",
        "C = \"Omer\"\n",
        "collab= A + \" \" + B +\" \" + C\n",
        "print(collab)"
      ]
    }
  ]
}