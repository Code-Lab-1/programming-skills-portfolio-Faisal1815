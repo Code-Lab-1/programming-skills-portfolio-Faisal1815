{
  "nbformat": 4,
  "nbformat_minor": 0,
  "metadata": {
    "colab": {
      "provenance": []
    },
    "kernelspec": {
      "name": "python3",
      "display_name": "Python 3"
    },
    "language_info": {
      "name": "python"
    }
  },
  "cells": [
    {
      "cell_type": "code",
      "execution_count": 1,
      "metadata": {
        "colab": {
          "base_uri": "https://localhost:8080/"
        },
        "id": "Lr9-3XVDhoGu",
        "outputId": "e8a37b9a-d08c-4450-9d1b-60534d859918"
      },
      "outputs": [
        {
          "output_type": "stream",
          "name": "stdout",
          "text": [
            "input the radius of the circle: 5\n",
            "the area of the circle with radius 5.0 is: 1227184.6303085128\n"
          ]
        }
      ],
      "source": [
        "\n",
        "from math import pi\n",
        "r= float(input(\"input the radius of the circle: \"))\n",
        "print(\"the area of the circle with radius \" + str(r) + \" is: \"+ str(pi * r**8))"
      ]
    }
  ]
}