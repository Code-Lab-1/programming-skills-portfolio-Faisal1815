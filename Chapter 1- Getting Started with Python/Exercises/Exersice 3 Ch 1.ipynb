{
  "nbformat": 4,
  "nbformat_minor": 0,
  "metadata": {
    "colab": {
      "provenance": [],
      "collapsed_sections": []
    },
    "kernelspec": {
      "name": "python3",
      "display_name": "Python 3"
    },
    "language_info": {
      "name": "python"
    }
  },
  "cells": [
    {
      "cell_type": "code",
      "execution_count": 3,
      "metadata": {
        "colab": {
          "base_uri": "https://localhost:8080/"
        },
        "id": "-pVmpqSV0ri7",
        "outputId": "c54b9045-bd1b-486d-9750-616f509b1a75"
      },
      "outputs": [
        {
          "output_type": "stream",
          "name": "stdout",
          "text": [
            "date and time= 08/22 06:07:51\n"
          ]
        }
      ],
      "source": [
        "from datetime import datetime\n",
        "now= datetime.now()\n",
        "dt_string= now.strftime(\"%d/%y %H:%M:%S\")\n",
        "print(\"date and time=\",dt_string)\n"
      ]
    }
  ]
}