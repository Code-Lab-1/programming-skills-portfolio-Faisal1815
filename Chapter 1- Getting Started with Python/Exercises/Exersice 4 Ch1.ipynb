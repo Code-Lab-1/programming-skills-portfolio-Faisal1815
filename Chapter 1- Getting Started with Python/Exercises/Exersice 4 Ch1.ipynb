{
  "nbformat": 4,
  "nbformat_minor": 0,
  "metadata": {
    "colab": {
      "provenance": [],
      "collapsed_sections": []
    },
    "kernelspec": {
      "name": "python3",
      "display_name": "Python 3"
    },
    "language_info": {
      "name": "python"
    }
  },
  "cells": [
    {
      "cell_type": "code",
      "execution_count": 4,
      "metadata": {
        "colab": {
          "base_uri": "https://localhost:8080/"
        },
        "id": "-pVmpqSV0ri7",
        "outputId": "75b0c86c-c6f6-4ba4-8510-5da6d128475e"
      },
      "outputs": [
        {
          "output_type": "stream",
          "name": "stdout",
          "text": [
            "Faisal Haithem Safaf\n"
          ]
        }
      ],
      "source": [
        "A =\"Faisal\"\n",
        "B = \"Haithem\"\n",
        "C = \"Safaf\"\n",
        "collab= A + \" \" + B +\" \" + C\n",
        "print(collab)\n"
      ]
    }
  ]
}